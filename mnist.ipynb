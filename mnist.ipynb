{
  "cells": [
    {
      "cell_type": "markdown",
      "metadata": {
        "id": "view-in-github",
        "colab_type": "text"
      },
      "source": [
        "<a href=\"https://colab.research.google.com/github/sruthikoyya/Deep-Learning/blob/main/mnist.ipynb\" target=\"_parent\"><img src=\"https://colab.research.google.com/assets/colab-badge.svg\" alt=\"Open In Colab\"/></a>"
      ]
    },
    {
      "cell_type": "code",
      "execution_count": null,
      "metadata": {
        "id": "CfSVJnc4RJAU"
      },
      "outputs": [],
      "source": [
        "import torch\n",
        "import torchvision\n",
        "from torchvision.datasets import MNIST"
      ]
    },
    {
      "cell_type": "code",
      "execution_count": null,
      "metadata": {
        "colab": {
          "base_uri": "https://localhost:8080/"
        },
        "id": "lZIpdJque59n",
        "outputId": "3334b197-625f-45fe-edac-fff2463fb426"
      },
      "outputs": [
        {
          "output_type": "stream",
          "name": "stdout",
          "text": [
            "Downloading http://yann.lecun.com/exdb/mnist/train-images-idx3-ubyte.gz\n",
            "Failed to download (trying next):\n",
            "HTTP Error 403: Forbidden\n",
            "\n",
            "Downloading https://ossci-datasets.s3.amazonaws.com/mnist/train-images-idx3-ubyte.gz\n",
            "Downloading https://ossci-datasets.s3.amazonaws.com/mnist/train-images-idx3-ubyte.gz to data/MNIST/raw/train-images-idx3-ubyte.gz\n"
          ]
        },
        {
          "output_type": "stream",
          "name": "stderr",
          "text": [
            "100%|██████████| 9.91M/9.91M [00:00<00:00, 20.0MB/s]\n"
          ]
        },
        {
          "output_type": "stream",
          "name": "stdout",
          "text": [
            "Extracting data/MNIST/raw/train-images-idx3-ubyte.gz to data/MNIST/raw\n",
            "\n",
            "Downloading http://yann.lecun.com/exdb/mnist/train-labels-idx1-ubyte.gz\n",
            "Failed to download (trying next):\n",
            "HTTP Error 403: Forbidden\n",
            "\n",
            "Downloading https://ossci-datasets.s3.amazonaws.com/mnist/train-labels-idx1-ubyte.gz\n",
            "Downloading https://ossci-datasets.s3.amazonaws.com/mnist/train-labels-idx1-ubyte.gz to data/MNIST/raw/train-labels-idx1-ubyte.gz\n"
          ]
        },
        {
          "output_type": "stream",
          "name": "stderr",
          "text": [
            "100%|██████████| 28.9k/28.9k [00:00<00:00, 616kB/s]\n"
          ]
        },
        {
          "output_type": "stream",
          "name": "stdout",
          "text": [
            "Extracting data/MNIST/raw/train-labels-idx1-ubyte.gz to data/MNIST/raw\n",
            "\n",
            "Downloading http://yann.lecun.com/exdb/mnist/t10k-images-idx3-ubyte.gz\n",
            "Failed to download (trying next):\n",
            "HTTP Error 403: Forbidden\n",
            "\n",
            "Downloading https://ossci-datasets.s3.amazonaws.com/mnist/t10k-images-idx3-ubyte.gz\n",
            "Downloading https://ossci-datasets.s3.amazonaws.com/mnist/t10k-images-idx3-ubyte.gz to data/MNIST/raw/t10k-images-idx3-ubyte.gz\n"
          ]
        },
        {
          "output_type": "stream",
          "name": "stderr",
          "text": [
            "100%|██████████| 1.65M/1.65M [00:00<00:00, 4.69MB/s]\n"
          ]
        },
        {
          "output_type": "stream",
          "name": "stdout",
          "text": [
            "Extracting data/MNIST/raw/t10k-images-idx3-ubyte.gz to data/MNIST/raw\n",
            "\n",
            "Downloading http://yann.lecun.com/exdb/mnist/t10k-labels-idx1-ubyte.gz\n",
            "Failed to download (trying next):\n",
            "HTTP Error 403: Forbidden\n",
            "\n",
            "Downloading https://ossci-datasets.s3.amazonaws.com/mnist/t10k-labels-idx1-ubyte.gz\n",
            "Downloading https://ossci-datasets.s3.amazonaws.com/mnist/t10k-labels-idx1-ubyte.gz to data/MNIST/raw/t10k-labels-idx1-ubyte.gz\n"
          ]
        },
        {
          "output_type": "stream",
          "name": "stderr",
          "text": [
            "100%|██████████| 4.54k/4.54k [00:00<00:00, 2.66MB/s]"
          ]
        },
        {
          "output_type": "stream",
          "name": "stdout",
          "text": [
            "Extracting data/MNIST/raw/t10k-labels-idx1-ubyte.gz to data/MNIST/raw\n",
            "\n"
          ]
        },
        {
          "output_type": "stream",
          "name": "stderr",
          "text": [
            "\n"
          ]
        }
      ],
      "source": [
        "dataset=MNIST(root='data/', download=True)"
      ]
    },
    {
      "cell_type": "code",
      "execution_count": null,
      "metadata": {
        "colab": {
          "base_uri": "https://localhost:8080/"
        },
        "id": "yNTuTwBDfQRs",
        "outputId": "a054610d-1041-41fc-c1e8-9aa221228485"
      },
      "outputs": [
        {
          "output_type": "execute_result",
          "data": {
            "text/plain": [
              "60000"
            ]
          },
          "metadata": {},
          "execution_count": 3
        }
      ],
      "source": [
        "len(dataset)"
      ]
    },
    {
      "cell_type": "code",
      "execution_count": null,
      "metadata": {
        "colab": {
          "base_uri": "https://localhost:8080/"
        },
        "id": "qmqgaIe_fX_f",
        "outputId": "8083e82d-52e7-4684-900b-b6fc7558054c"
      },
      "outputs": [
        {
          "output_type": "execute_result",
          "data": {
            "text/plain": [
              "10000"
            ]
          },
          "metadata": {},
          "execution_count": 4
        }
      ],
      "source": [
        "test_dataset=MNIST(root='data/',train=False)\n",
        "len(test_dataset)"
      ]
    },
    {
      "cell_type": "code",
      "execution_count": null,
      "metadata": {
        "colab": {
          "base_uri": "https://localhost:8080/"
        },
        "id": "e2g9czWnfuxV",
        "outputId": "3df57152-b072-40ae-c16a-28bf0fbac9d6"
      },
      "outputs": [
        {
          "output_type": "execute_result",
          "data": {
            "text/plain": [
              "(<PIL.Image.Image image mode=L size=28x28>, 5)"
            ]
          },
          "metadata": {},
          "execution_count": 5
        }
      ],
      "source": [
        "dataset[0]"
      ]
    },
    {
      "cell_type": "markdown",
      "metadata": {
        "id": "aYtOLHzLgMlj"
      },
      "source": [
        "Its a pair ,consisting of a 28x28 px image and a  label. The image is an object of the class PIL.Image.Image which is a part of the Python imaging libary PILLOW. We can view the image within JUPYTER using matplotlib the de-facto plotting and graphing library for the science in Pyton"
      ]
    },
    {
      "cell_type": "code",
      "execution_count": null,
      "metadata": {
        "id": "G0paJwEDgx81"
      },
      "outputs": [],
      "source": [
        "import matplotlib.pyplot as plt\n",
        "%matplotlib inline"
      ]
    },
    {
      "cell_type": "markdown",
      "metadata": {
        "id": "ue78NPfEhScx"
      },
      "source": [
        "The Satement %matplot inline indicates to jupyter notebook that we want to ploat the graph within the notebook . Without this line ,Jupyter will show the image in a popup. Satement staring with % are called magic commands and are used to configure the behavior of Jupyter itself."
      ]
    },
    {
      "cell_type": "code",
      "execution_count": null,
      "metadata": {
        "colab": {
          "base_uri": "https://localhost:8080/",
          "height": 447
        },
        "id": "JdYMkzJ4h6dM",
        "outputId": "714bf476-af8d-4f7e-f841-99c9fb35a42a"
      },
      "outputs": [
        {
          "output_type": "stream",
          "name": "stdout",
          "text": [
            "Lable :  5\n"
          ]
        },
        {
          "output_type": "display_data",
          "data": {
            "text/plain": [
              "<Figure size 640x480 with 1 Axes>"
            ],
            "image/png": "[encoded data removed]"
          },
          "metadata": {}
        }
      ],
      "source": [
        "image,label=dataset[0]\n",
        "plt.imshow(image,cmap='gray')\n",
        "print(\"Lable : \",label)"
      ]
    },
    {
      "cell_type": "code",
      "execution_count": null,
      "metadata": {
        "colab": {
          "base_uri": "https://localhost:8080/",
          "height": 447
        },
        "id": "xtaQqTylOJE8",
        "outputId": "d1f60d32-bc82-43f0-b1ca-201766232949"
      },
      "outputs": [
        {
          "output_type": "stream",
          "name": "stdout",
          "text": [
            "Lable :  3\n"
          ]
        },
        {
          "output_type": "display_data",
          "data": {
            "text/plain": [
              "<Figure size 640x480 with 1 Axes>"
            ],
            "image/png": "[encoded data removed]"
          },
          "metadata": {}
        }
      ],
      "source": [
        "image,label=dataset[10]\n",
        "plt.imshow(image,cmap='gray')\n",
        "print(\"Lable : \",label)"
      ]
    },
    {
      "cell_type": "markdown",
      "metadata": {
        "id": "zHAFqrE5OlOP"
      },
      "source": [
        "PyTorch doesn't kow how t work wiht images.We need to convert the images into tensors. We cna do this by specifying a transform while creating out dataset."
      ]
    },
    {
      "cell_type": "code",
      "execution_count": null,
      "metadata": {
        "id": "blQRpWGFO1zc"
      },
      "outputs": [],
      "source": [
        "import torchvision.transforms as transforms"
      ]
    },
    {
      "cell_type": "markdown",
      "metadata": {
        "id": "Bc-tadqPPaDX"
      },
      "source": [
        "ToTensor transform to convert images into PyTorch tensors"
      ]
    },
    {
      "cell_type": "code",
      "execution_count": null,
      "metadata": {
        "id": "I-kibo3lO_Hr"
      },
      "outputs": [],
      "source": [
        "dataset=MNIST(root='data/',train=True,transform=transforms.ToTensor())"
      ]
    },
    {
      "cell_type": "code",
      "execution_count": null,
      "metadata": {
        "colab": {
          "base_uri": "https://localhost:8080/"
        },
        "id": "rshM93t1P8iz",
        "outputId": "5902682c-0580-468e-9182-b2ed5793aa0a"
      },
      "outputs": [
        {
          "output_type": "stream",
          "name": "stdout",
          "text": [
            "torch.Size([1, 28, 28]) 5\n"
          ]
        }
      ],
      "source": [
        "img_tensor ,label=dataset[0]\n",
        "print(img_tensor.shape,label)"
      ]
    },
    {
      "cell_type": "code",
      "execution_count": null,
      "metadata": {
        "colab": {
          "base_uri": "https://localhost:8080/"
        },
        "id": "ii71Qyc4QjE-",
        "outputId": "96a81bbe-27ba-448c-c93e-0b37fd20d071"
      },
      "outputs": [
        {
          "output_type": "stream",
          "name": "stdout",
          "text": [
            "tensor([[0.0039, 0.6039, 0.9922, 0.3529, 0.0000],\n",
            "        [0.0000, 0.5451, 0.9922, 0.7451, 0.0078],\n",
            "        [0.0000, 0.0431, 0.7451, 0.9922, 0.2745],\n",
            "        [0.0000, 0.0000, 0.1373, 0.9451, 0.8824],\n",
            "        [0.0000, 0.0000, 0.0000, 0.3176, 0.9412]])\n",
            "tensor(1.) tensor(0.)\n"
          ]
        }
      ],
      "source": [
        "print(img_tensor[0,10:15,10:15])\n",
        "print(torch.max(img_tensor),torch.min(img_tensor))"
      ]
    },
    {
      "cell_type": "markdown",
      "metadata": {
        "id": "3ayB2u8WuaKa"
      },
      "source": [
        "The value range from 0 to 1, with 0 representing black ,1 white, and the value in betweendifferent shades of gray. We can also plot the tensor as an image using plt.imsho"
      ]
    },
    {
      "cell_type": "code",
      "execution_count": null,
      "metadata": {
        "colab": {
          "base_uri": "https://localhost:8080/",
          "height": 447
        },
        "id": "0jk87nTIuKxS",
        "outputId": "24bad770-a5bb-436c-db80-d079bccd8308"
      },
      "outputs": [
        {
          "output_type": "execute_result",
          "data": {
            "text/plain": [
              "<matplotlib.image.AxesImage at 0x7e4e2e8b45b0>"
            ]
          },
          "metadata": {},
          "execution_count": 13
        },
        {
          "output_type": "display_data",
          "data": {
            "text/plain": [
              "<Figure size 640x480 with 1 Axes>"
            ],
            "image/png": "[encoded data removed]"
          },
          "metadata": {}
        }
      ],
      "source": [
        "#Plot the image bu passing in the 28x28 matrix\n",
        "plt.imshow(img_tensor[0,10:15,10:15],cmap='gray')"
      ]
    },
    {
      "cell_type": "code",
      "execution_count": null,
      "metadata": {
        "id": "rKa8RfpIVDk7"
      },
      "outputs": [],
      "source": []
    },
    {
      "cell_type": "markdown",
      "metadata": {
        "id": "TJSBySKAVxLk"
      },
      "source": [
        "# Training and Validation Datasets\n",
        "Training set use to tain a moded i.e computer the loss and adjust the models weights using gradient descent"
      ]
    },
    {
      "cell_type": "markdown",
      "metadata": {
        "id": "fXVkZKYcWVEy"
      },
      "source": [
        "Validation set used to evaluate the model during training, adjust the hyperparametets (learning rate etc) and pick the best version of the model\n",
        "\n",
        "test set used to compate different models or approaches and report the model'd final accuracy"
      ]
    },
    {
      "cell_type": "code",
      "execution_count": null,
      "metadata": {
        "colab": {
          "base_uri": "https://localhost:8080/"
        },
        "id": "gHn_U09aW0Fv",
        "outputId": "100b100e-92ce-4c5a-a405-4af6048f1823"
      },
      "outputs": [
        {
          "output_type": "execute_result",
          "data": {
            "text/plain": [
              "(50000, 10000)"
            ]
          },
          "metadata": {},
          "execution_count": 14
        }
      ],
      "source": [
        "from torch.utils.data import random_split\n",
        "train_ds,val_ds=random_split(dataset,[50000,10000])\n",
        "len(train_ds),len(val_ds)"
      ]
    },
    {
      "cell_type": "markdown",
      "metadata": {
        "id": "ffx8xT3EXmMJ"
      },
      "source": [
        "We can now create data loaders to help us to load the data in batches. We'll use a batch size of 128"
      ]
    },
    {
      "cell_type": "code",
      "execution_count": null,
      "metadata": {
        "id": "q3phOSQDXVO_"
      },
      "outputs": [],
      "source": [
        "from torch.utils.data import DataLoader\n",
        "batch_size=128\n",
        "train_loader=DataLoader(train_ds,batch_size,shuffle=True)\n",
        "val_loader=DataLoader(val_ds,batch_size)"
      ]
    },
    {
      "cell_type": "markdown",
      "metadata": {
        "id": "VATxe5FtYcmc"
      },
      "source": [
        "We set shuffle =True for the training data loader to ensure that the  batches generated in each epoch are different. This randomization helps generalize and speed up the training process. On the other hand, since the validation data loader is used only for evaluating the model, there is no need to shuffle the images"
      ]
    },
    {
      "cell_type": "markdown",
      "metadata": {
        "id": "J5tqqXHNY511"
      },
      "source": []
    },
    {
      "cell_type": "code",
      "execution_count": null,
      "metadata": {
        "id": "GiFBkjc7YUFu"
      },
      "outputs": [],
      "source": [
        "import torch.nn as nn\n",
        "\n",
        "input_size=28*28\n",
        "num_classes=10\n",
        "\n",
        "#Logistic regression model\n",
        "model=nn.Linear(input_size,num_classes)"
      ]
    },
    {
      "cell_type": "markdown",
      "metadata": {
        "id": "JPnFlke7acu8"
      },
      "source": [
        "Our model is a lot larger because the input parameters are 28*28"
      ]
    },
    {
      "cell_type": "markdown",
      "metadata": {
        "id": "ydiZ6lIEanXH"
      },
      "source": [
        "Let's take a look at the weights and biases\n",
        "\n"
      ]
    },
    {
      "cell_type": "code",
      "execution_count": null,
      "metadata": {
        "colab": {
          "base_uri": "https://localhost:8080/"
        },
        "id": "IDbFu6C0abrt",
        "outputId": "1bfaa2f1-6ca3-4930-d497-c59f8601d024"
      },
      "outputs": [
        {
          "output_type": "stream",
          "name": "stdout",
          "text": [
            "torch.Size([10, 784])\n"
          ]
        },
        {
          "output_type": "execute_result",
          "data": {
            "text/plain": [
              "Parameter containing:\n",
              "tensor([[ 0.0022, -0.0088, -0.0006,  ...,  0.0120, -0.0277,  0.0093],\n",
              "        [-0.0075,  0.0077,  0.0096,  ...,  0.0026, -0.0148,  0.0044],\n",
              "        [-0.0082, -0.0314, -0.0060,  ..., -0.0311, -0.0344,  0.0166],\n",
              "        ...,\n",
              "        [ 0.0168,  0.0078,  0.0207,  ..., -0.0161, -0.0154,  0.0007],\n",
              "        [-0.0224,  0.0336, -0.0164,  ...,  0.0188,  0.0067,  0.0316],\n",
              "        [ 0.0040, -0.0244,  0.0201,  ...,  0.0095,  0.0103, -0.0237]],\n",
              "       requires_grad=True)"
            ]
          },
          "metadata": {},
          "execution_count": 17
        }
      ],
      "source": [
        "print(model.weight.shape)\n",
        "model.weight"
      ]
    },
    {
      "cell_type": "code",
      "execution_count": null,
      "metadata": {
        "colab": {
          "base_uri": "https://localhost:8080/"
        },
        "id": "O20dnTz6awlc",
        "outputId": "f4cc5d87-d5f8-4f88-996b-ee4ce68d48ff"
      },
      "outputs": [
        {
          "output_type": "stream",
          "name": "stdout",
          "text": [
            "torch.Size([10])\n"
          ]
        },
        {
          "output_type": "execute_result",
          "data": {
            "text/plain": [
              "Parameter containing:\n",
              "tensor([ 0.0143,  0.0038, -0.0299, -0.0289,  0.0337, -0.0340, -0.0243,  0.0122,\n",
              "         0.0043, -0.0318], requires_grad=True)"
            ]
          },
          "metadata": {},
          "execution_count": 18
        }
      ],
      "source": [
        "print(model.bias.shape)\n",
        "model.bias"
      ]
    },
    {
      "cell_type": "markdown",
      "metadata": {
        "id": "we0ylkDKd7ey"
      },
      "source": [
        "Athough there are a total 7850 parameters here, conceptually ,nothing has changed so far. Let's try and generate some output using out model. We'll take the first batch of 100 images from out dataset and pass them into out model"
      ]
    },
    {
      "cell_type": "code",
      "execution_count": null,
      "metadata": {
        "colab": {
          "base_uri": "https://localhost:8080/",
          "height": 35
        },
        "id": "eM4M7nXRdl3Z",
        "outputId": "49ee1181-2609-44bb-9641-e3cf7510c0e5"
      },
      "outputs": [
        {
          "output_type": "execute_result",
          "data": {
            "text/plain": [
              "'\\nfor images,labels in train_loader:\\n  print(labels)\\n  print(images.shape)\\n  outputs =model(images)\\n  print(outputs)\\n  break\\n  '"
            ],
            "application/vnd.google.colaboratory.intrinsic+json": {
              "type": "string"
            }
          },
          "metadata": {},
          "execution_count": 19
        }
      ],
      "source": [
        "'''\n",
        "for images,labels in train_loader:\n",
        "  print(labels)\n",
        "  print(images.shape)\n",
        "  outputs =model(images)\n",
        "  print(outputs)\n",
        "  break\n",
        "  '''\n"
      ]
    },
    {
      "cell_type": "markdown",
      "metadata": {
        "id": "NgqaBiZWgYzJ"
      },
      "source": [
        "The code above leads to an error because our input data does not have the right shape . Our images are of the shape 1x28x28, but we need them to be vector of size 784 , i.e we need to flatten them. We'll use the .reshape method of a tensor , which will allow us to efficiently 'view' each image as a flat vector without relly creating a copy of the underlying data. To include this additional functionality within our model, we need to define a custom model by extending the nn.Module class from PyTorch"
      ]
    },
    {
      "cell_type": "markdown",
      "metadata": {
        "id": "2B6E6ex8hV79"
      },
      "source": [
        "A Class in python provides a bluprint for creating objects.\n"
      ]
    },
    {
      "cell_type": "code",
      "execution_count": null,
      "metadata": {
        "id": "QR6Sa_xJgWnI"
      },
      "outputs": [],
      "source": [
        "class MnistModel(nn.Module):\n",
        "  def __init__(self):\n",
        "    super().__init__()\n",
        "    self.linear=nn.Linear(input_size,num_classes)\n",
        "  def forward(self,xb):\n",
        "    xb=xb.reshape(-1,784)\n",
        "    out=self.linear(xb)\n",
        "    return out\n",
        "model=MnistModel()"
      ]
    },
    {
      "cell_type": "markdown",
      "metadata": {
        "id": "uyJ1SF8Lm0gJ"
      },
      "source": [
        "Inside the __init__ constructor method, we instantiate the weights and biases using nn.Linear . And inside the forward method, which is invoked when we pass a batch of inputs to the model, we flatten the input tensor and pass it into self.linear\n",
        "\n",
        "xb.reshape(-1,28*28) indicates to PyTorch that we want a view of the xb tensor with two dimensions. The length along the 2nd dimension is 28*28 (i.e 784) . One argument to .reshape can be set to -2 (in this case, the first dimension) to let PyTorch figure it out automatically based on the shape of the original tensor.\n",
        "\n",
        "Note that the model no longer has .weight and .bias attributes(as they are now inside the .linear attribute),but it does have a .parameters method that returns a list containing the weights and bias."
      ]
    },
    {
      "cell_type": "code",
      "execution_count": null,
      "metadata": {
        "colab": {
          "base_uri": "https://localhost:8080/"
        },
        "id": "ZR1nUk8PodO_",
        "outputId": "4c4ad6fd-15a3-42db-97c3-c67b5bc6ef85"
      },
      "outputs": [
        {
          "output_type": "execute_result",
          "data": {
            "text/plain": [
              "Linear(in_features=784, out_features=10, bias=True)"
            ]
          },
          "metadata": {},
          "execution_count": 21
        }
      ],
      "source": [
        "model.linear"
      ]
    },
    {
      "cell_type": "code",
      "execution_count": null,
      "metadata": {
        "colab": {
          "base_uri": "https://localhost:8080/"
        },
        "id": "6N9GfkXdoiM_",
        "outputId": "65acb4aa-f02f-48e3-c146-ff806c624771"
      },
      "outputs": [
        {
          "output_type": "stream",
          "name": "stdout",
          "text": [
            "torch.Size([10, 784]) torch.Size([10])\n"
          ]
        },
        {
          "output_type": "execute_result",
          "data": {
            "text/plain": [
              "[Parameter containing:\n",
              " tensor([[ 0.0247,  0.0158,  0.0018,  ..., -0.0252, -0.0348, -0.0302],\n",
              "         [-0.0194,  0.0068, -0.0206,  ...,  0.0329, -0.0238, -0.0170],\n",
              "         [-0.0070,  0.0354, -0.0211,  ...,  0.0100,  0.0271, -0.0237],\n",
              "         ...,\n",
              "         [ 0.0163, -0.0344,  0.0216,  ...,  0.0227, -0.0136,  0.0259],\n",
              "         [ 0.0149, -0.0043,  0.0191,  ..., -0.0003, -0.0253, -0.0256],\n",
              "         [-0.0307,  0.0075, -0.0073,  ...,  0.0215, -0.0323, -0.0179]],\n",
              "        requires_grad=True),\n",
              " Parameter containing:\n",
              " tensor([-0.0243, -0.0288, -0.0084, -0.0136,  0.0279,  0.0095, -0.0008,  0.0168,\n",
              "         -0.0327,  0.0273], requires_grad=True)]"
            ]
          },
          "metadata": {},
          "execution_count": 22
        }
      ],
      "source": [
        "print(model.linear.weight.shape,model.linear.bias.shape)\n",
        "list(model.parameters())"
      ]
    },
    {
      "cell_type": "markdown",
      "metadata": {
        "id": "GrEwtDIKo13-"
      },
      "source": [
        "we can use out new custom model in the same way as before."
      ]
    },
    {
      "cell_type": "code",
      "execution_count": null,
      "metadata": {
        "colab": {
          "base_uri": "https://localhost:8080/"
        },
        "id": "5uvYFQaUoveE",
        "outputId": "f6c395b0-e4b9-4512-cbba-ed20310ef7bf"
      },
      "outputs": [
        {
          "output_type": "stream",
          "name": "stdout",
          "text": [
            "Outputs.shape:   torch.Size([128, 10])\n",
            "Sample outptus  :\n",
            " tensor([[-0.0196, -0.0386, -0.0395,  0.1655, -0.0713, -0.1031,  0.2126,  0.1321,\n",
            "         -0.1789,  0.0506],\n",
            "        [-0.1394, -0.1521, -0.2988,  0.0203, -0.2006,  0.0565,  0.1385, -0.0797,\n",
            "         -0.0416, -0.0732]])\n"
          ]
        }
      ],
      "source": [
        "for images,labels in train_loader:\n",
        "  outputs=model(images)\n",
        "  break\n",
        "print(\"Outputs.shape:  \",outputs.shape)\n",
        "print(\"Sample outptus  :\\n\",outputs[:2].data)"
      ]
    },
    {
      "cell_type": "markdown",
      "metadata": {
        "id": "-w8A8nzhp-4Z"
      },
      "source": [
        "For each of the 100 input images we get 10 outputs ,one  for each class. As discussed earlier, we'd like these outputs to represets probabilities. Each output row's elements must lie between 0 to 1 and add up to 1 , which is not the case.\n",
        "\n",
        "To convert the output into probabilities ,we use the softmax function."
      ]
    },
    {
      "cell_type": "code",
      "execution_count": null,
      "metadata": {
        "id": "FoqXBP5upYQE"
      },
      "outputs": [],
      "source": [
        " import torch.nn.functional as F"
      ]
    },
    {
      "cell_type": "code",
      "execution_count": null,
      "metadata": {
        "colab": {
          "base_uri": "https://localhost:8080/"
        },
        "id": "y7QYuuGXrkL8",
        "outputId": "d5c0eb88-a3ed-4477-8c12-2b92fa9d121c"
      },
      "outputs": [
        {
          "output_type": "stream",
          "name": "stdout",
          "text": [
            "Sample probabilities :\n",
            " tensor([[0.0963, 0.0945, 0.0944, 0.1159, 0.0914, 0.0886, 0.1215, 0.1121, 0.0821,\n",
            "         0.1033],\n",
            "        [0.0933, 0.0921, 0.0795, 0.1094, 0.0877, 0.1134, 0.1231, 0.0990, 0.1028,\n",
            "         0.0996]])\n",
            "Sum : 0.9999999403953552\n"
          ]
        }
      ],
      "source": [
        "# Apply softmax for each output row\n",
        "\n",
        "probs=F.softmax(outputs, dim=1)\n",
        "\n",
        "# sample probabilities\n",
        "print('Sample probabilities :\\n',probs[:2].data)\n",
        "\n",
        "# Add up the probabilities of an output row\n",
        "\n",
        "print(\"Sum :\",torch.sum(probs[0]).item())"
      ]
    },
    {
      "cell_type": "markdown",
      "metadata": {
        "id": "c6gF1YW6snxe"
      },
      "source": [
        "Finally we can determine the predicted label for each image by simply choosing the index of the element with the highest probability in each output row. We can do this using torch.max, which returns  each row's largest element and the corresponding index"
      ]
    },
    {
      "cell_type": "code",
      "execution_count": null,
      "metadata": {
        "colab": {
          "base_uri": "https://localhost:8080/"
        },
        "id": "OfYElEUvsKH_",
        "outputId": "1ea25393-5913-4bb1-95c9-440c0ad1e07d"
      },
      "outputs": [
        {
          "output_type": "stream",
          "name": "stdout",
          "text": [
            "tensor([6, 6, 9, 8, 6, 3, 5, 3, 3, 5, 9, 0, 4, 3, 6, 3, 5, 5, 3, 9, 8, 6, 1, 6,\n",
            "        5, 2, 2, 6, 3, 3, 3, 0, 9, 7, 5, 3, 9, 5, 1, 5, 3, 0, 7, 9, 3, 7, 3, 0,\n",
            "        6, 5, 3, 5, 8, 1, 9, 0, 8, 5, 5, 3, 3, 5, 3, 6, 5, 9, 3, 9, 5, 0, 0, 5,\n",
            "        9, 0, 9, 3, 9, 6, 5, 7, 6, 3, 7, 3, 3, 7, 0, 9, 5, 5, 9, 5, 3, 7, 9, 7,\n",
            "        8, 5, 9, 7, 0, 9, 6, 6, 3, 9, 9, 9, 0, 3, 0, 0, 0, 5, 6, 8, 3, 5, 3, 8,\n",
            "        0, 6, 9, 6, 5, 3, 6, 3])\n",
            "tensor([0.1215, 0.1231, 0.1487, 0.1240, 0.1237, 0.1198, 0.1250, 0.1329, 0.1222,\n",
            "        0.1247, 0.1356, 0.1344, 0.1135, 0.1144, 0.1307, 0.1253, 0.1474, 0.1121,\n",
            "        0.1261, 0.1322, 0.1264, 0.1231, 0.1347, 0.1236, 0.1418, 0.1189, 0.1287,\n",
            "        0.1191, 0.1295, 0.1122, 0.1482, 0.1316, 0.1412, 0.1257, 0.1194, 0.1218,\n",
            "        0.1251, 0.1170, 0.1444, 0.1244, 0.1357, 0.1427, 0.1221, 0.1324, 0.1102,\n",
            "        0.1148, 0.1490, 0.1216, 0.1342, 0.1239, 0.1342, 0.1314, 0.1238, 0.1291,\n",
            "        0.1266, 0.1291, 0.1292, 0.1385, 0.1174, 0.1246, 0.1517, 0.1507, 0.1532,\n",
            "        0.1403, 0.1411, 0.1308, 0.1237, 0.1288, 0.1159, 0.1373, 0.1303, 0.1269,\n",
            "        0.1375, 0.1285, 0.1150, 0.1518, 0.1402, 0.1384, 0.1336, 0.1192, 0.1234,\n",
            "        0.1177, 0.1180, 0.1260, 0.1143, 0.1330, 0.1259, 0.1434, 0.1502, 0.1114,\n",
            "        0.1479, 0.1271, 0.1228, 0.1267, 0.1473, 0.1280, 0.1323, 0.1260, 0.1195,\n",
            "        0.1174, 0.1191, 0.1221, 0.1404, 0.1261, 0.1218, 0.1385, 0.1183, 0.1117,\n",
            "        0.1252, 0.1319, 0.1278, 0.1402, 0.1322, 0.1186, 0.1259, 0.1291, 0.1363,\n",
            "        0.1257, 0.1236, 0.1227, 0.1353, 0.1153, 0.1231, 0.1223, 0.1291, 0.1177,\n",
            "        0.1364, 0.1267], grad_fn=<MaxBackward0>)\n"
          ]
        }
      ],
      "source": [
        "max_probs,preds=torch.max(probs,dim=1)\n",
        "print(preds)\n",
        "print(max_probs)"
      ]
    },
    {
      "cell_type": "code",
      "execution_count": null,
      "metadata": {
        "colab": {
          "base_uri": "https://localhost:8080/"
        },
        "id": "FovXtbAHtaIQ",
        "outputId": "a052a76a-b4b9-47c8-a8ed-4750101179db"
      },
      "outputs": [
        {
          "output_type": "execute_result",
          "data": {
            "text/plain": [
              "tensor([7, 3, 6, 1, 0, 8, 7, 7, 2, 2, 5, 5, 7, 5, 9, 0, 8, 7, 6, 9, 8, 5, 0, 7,\n",
              "        4, 4, 6, 1, 7, 3, 6, 0, 5, 4, 7, 9, 3, 7, 0, 6, 2, 0, 1, 5, 9, 1, 2, 8,\n",
              "        5, 4, 6, 9, 7, 8, 3, 2, 7, 5, 1, 3, 6, 4, 0, 0, 4, 9, 8, 5, 8, 0, 1, 4,\n",
              "        6, 6, 4, 2, 3, 7, 8, 1, 1, 3, 3, 7, 2, 4, 2, 3, 4, 4, 0, 3, 2, 4, 5, 7,\n",
              "        7, 0, 9, 1, 6, 0, 7, 4, 4, 8, 7, 3, 2, 3, 0, 2, 2, 9, 7, 5, 2, 9, 2, 7,\n",
              "        1, 7, 2, 7, 8, 0, 5, 9])"
            ]
          },
          "metadata": {},
          "execution_count": 27
        }
      ],
      "source": [
        "labels"
      ]
    },
    {
      "cell_type": "markdown",
      "metadata": {
        "id": "8wmE-7EkRV0_"
      },
      "source": [
        "Most of the predicted labels are different from the actual labels. That's because we have started with randomly initialized weights and biases. We need to trian the model, i.e adjust the weights using gradient descent to make better predictions"
      ]
    },
    {
      "cell_type": "markdown",
      "metadata": {
        "id": "fGhJfzl2RumE"
      },
      "source": [
        "# Evaluation Metric and Loss Function\n"
      ]
    },
    {
      "cell_type": "markdown",
      "metadata": {
        "id": "9Qh7YIKRSFJC"
      },
      "source": [
        "Just as with linear regresion we need a way to evaluate how well our model is performing . A natural way do this would be to find the percentage of labels that were predicted correctly, i.e the accuracy of the prediction"
      ]
    },
    {
      "cell_type": "code",
      "execution_count": null,
      "metadata": {
        "colab": {
          "base_uri": "https://localhost:8080/"
        },
        "id": "aw-hbn6wtqrX",
        "outputId": "3253ef96-8bbc-4c34-e13c-d8626455c28a"
      },
      "outputs": [
        {
          "output_type": "execute_result",
          "data": {
            "text/plain": [
              "tensor([[-0.0196, -0.0386, -0.0395,  ...,  0.1321, -0.1789,  0.0506],\n",
              "        [-0.1394, -0.1521, -0.2988,  ..., -0.0797, -0.0416, -0.0732],\n",
              "        [-0.0465, -0.3363, -0.0859,  ..., -0.1303, -0.2058,  0.3499],\n",
              "        ...,\n",
              "        [ 0.0499, -0.0542,  0.0185,  ..., -0.1474,  0.0676,  0.0325],\n",
              "        [-0.0554,  0.0337, -0.3237,  ...,  0.0706,  0.2900,  0.0072],\n",
              "        [-0.0965,  0.0365, -0.4206,  ..., -0.0509, -0.1069,  0.1055]],\n",
              "       grad_fn=<AddmmBackward0>)"
            ]
          },
          "metadata": {},
          "execution_count": 28
        }
      ],
      "source": [
        "outputs"
      ]
    },
    {
      "cell_type": "code",
      "execution_count": null,
      "metadata": {
        "colab": {
          "base_uri": "https://localhost:8080/"
        },
        "id": "cS124euaS5Ye",
        "outputId": "d021a179-96f0-4aae-de54-1776d5bd7671"
      },
      "outputs": [
        {
          "output_type": "execute_result",
          "data": {
            "text/plain": [
              "tensor([[-0.0196, -0.0386, -0.0395,  0.1655, -0.0713, -0.1031,  0.2126,  0.1321,\n",
              "         -0.1789,  0.0506],\n",
              "        [-0.1394, -0.1521, -0.2988,  0.0203, -0.2006,  0.0565,  0.1385, -0.0797,\n",
              "         -0.0416, -0.0732]], grad_fn=<SliceBackward0>)"
            ]
          },
          "metadata": {},
          "execution_count": 29
        }
      ],
      "source": [
        "outputs[:2]"
      ]
    },
    {
      "cell_type": "code",
      "execution_count": null,
      "metadata": {
        "colab": {
          "base_uri": "https://localhost:8080/"
        },
        "id": "i4zZEnk_S7up",
        "outputId": "98178585-2844-41b4-8001-74edb439ee15"
      },
      "outputs": [
        {
          "output_type": "execute_result",
          "data": {
            "text/plain": [
              "tensor([False, False, False, False, False, False, False, False, False, False,\n",
              "        False, False, False, False, False, False, False, False, False,  True,\n",
              "         True, False, False, False, False, False, False, False, False,  True,\n",
              "        False,  True, False, False, False, False, False, False, False, False,\n",
              "        False,  True, False, False, False, False, False, False, False, False,\n",
              "        False, False, False, False, False, False, False,  True, False,  True,\n",
              "        False, False, False, False, False,  True, False, False, False,  True,\n",
              "        False, False, False, False, False, False, False, False, False, False,\n",
              "        False,  True, False, False, False, False, False, False, False, False,\n",
              "        False, False, False, False, False,  True, False, False,  True, False,\n",
              "        False, False, False, False, False, False, False, False, False,  True,\n",
              "         True, False, False, False, False, False, False, False, False, False,\n",
              "        False, False, False, False, False, False, False, False])"
            ]
          },
          "metadata": {},
          "execution_count": 30
        }
      ],
      "source": [
        "preds==labels"
      ]
    },
    {
      "cell_type": "code",
      "execution_count": null,
      "metadata": {
        "colab": {
          "base_uri": "https://localhost:8080/"
        },
        "id": "X7In22IuTIJj",
        "outputId": "b1b03609-6894-4014-9129-df785312104f"
      },
      "outputs": [
        {
          "output_type": "execute_result",
          "data": {
            "text/plain": [
              "tensor(14)"
            ]
          },
          "metadata": {},
          "execution_count": 31
        }
      ],
      "source": [
        "torch.sum(preds== labels)"
      ]
    },
    {
      "cell_type": "code",
      "execution_count": null,
      "metadata": {
        "colab": {
          "base_uri": "https://localhost:8080/"
        },
        "id": "PQid5nZ3UiQk",
        "outputId": "d6949f26-1b1b-417a-c91b-889089353472"
      },
      "outputs": [
        {
          "output_type": "execute_result",
          "data": {
            "text/plain": [
              "14"
            ]
          },
          "metadata": {},
          "execution_count": 32
        }
      ],
      "source": [
        "torch.sum(preds == labels).item()"
      ]
    },
    {
      "cell_type": "code",
      "execution_count": null,
      "metadata": {
        "colab": {
          "base_uri": "https://localhost:8080/"
        },
        "id": "MwrLWYq1Urvn",
        "outputId": "e08d2ff9-5b83-4774-d7b7-1ce1207924fa"
      },
      "outputs": [
        {
          "output_type": "execute_result",
          "data": {
            "text/plain": [
              "0.109375"
            ]
          },
          "metadata": {},
          "execution_count": 33
        }
      ],
      "source": [
        "torch.sum(preds == labels).item()/len(preds)"
      ]
    },
    {
      "cell_type": "code",
      "execution_count": null,
      "metadata": {
        "colab": {
          "base_uri": "https://localhost:8080/"
        },
        "id": "Nr0NggfIVMmF",
        "outputId": "a35f1818-c222-4fb6-f248-edeecdef4c8b"
      },
      "outputs": [
        {
          "output_type": "execute_result",
          "data": {
            "text/plain": [
              "tensor(0.1094)"
            ]
          },
          "metadata": {},
          "execution_count": 34
        }
      ],
      "source": [
        "torch.tensor(torch.sum(preds == labels).item()/len(preds))"
      ]
    },
    {
      "cell_type": "code",
      "execution_count": null,
      "metadata": {
        "id": "OqbkNS5xTNUT"
      },
      "outputs": [],
      "source": [
        "def accuracy(outputs, labels):\n",
        "  _,preds=torch.max(outputs,dim=1)\n",
        "  return torch.tensor(torch.sum(preds == labels).item()/len(preds))"
      ]
    },
    {
      "cell_type": "markdown",
      "metadata": {
        "id": "0aMp8kQ5UI2m"
      },
      "source": []
    },
    {
      "cell_type": "code",
      "execution_count": null,
      "metadata": {
        "colab": {
          "base_uri": "https://localhost:8080/"
        },
        "id": "qSD7uVHLT5JY",
        "outputId": "9e67c2a1-7844-439b-f657-17672b0fec44"
      },
      "outputs": [
        {
          "output_type": "execute_result",
          "data": {
            "text/plain": [
              "tensor(0.1094)"
            ]
          },
          "metadata": {},
          "execution_count": 36
        }
      ],
      "source": [
        "accuracy(outputs,labels)"
      ]
    },
    {
      "cell_type": "code",
      "execution_count": null,
      "metadata": {
        "colab": {
          "base_uri": "https://localhost:8080/"
        },
        "id": "CsAVaab9UTZM",
        "outputId": "b1fac45a-61a2-4db3-ea25-14c19f9248b2"
      },
      "outputs": [
        {
          "output_type": "execute_result",
          "data": {
            "text/plain": [
              "tensor([[0.0963, 0.0945, 0.0944,  ..., 0.1121, 0.0821, 0.1033],\n",
              "        [0.0933, 0.0921, 0.0795,  ..., 0.0990, 0.1028, 0.0996],\n",
              "        [0.1000, 0.0749, 0.0962,  ..., 0.0920, 0.0853, 0.1487],\n",
              "        ...,\n",
              "        [0.1065, 0.0959, 0.1032,  ..., 0.0874, 0.1084, 0.1046],\n",
              "        [0.0916, 0.1001, 0.0700,  ..., 0.1039, 0.1294, 0.0975],\n",
              "        [0.0969, 0.1107, 0.0701,  ..., 0.1015, 0.0959, 0.1186]],\n",
              "       grad_fn=<SoftmaxBackward0>)"
            ]
          },
          "metadata": {},
          "execution_count": 37
        }
      ],
      "source": [
        "probs"
      ]
    },
    {
      "cell_type": "markdown",
      "metadata": {
        "id": "C0F4W2RmW_GN"
      },
      "source": [
        "Unlike accuracy, cross entropy is a continuous and differnetiable function. It is also provides useful feedback for incremental improvements in the model(a slightly probability for the correct label leads to a lower loss). These two factors make cross- entropy a better choice for the loss function.\n",
        "\n",
        "moreover is also performs softmax internally, so we can directly pass in the model's output without converting them into probabilities"
      ]
    },
    {
      "cell_type": "code",
      "execution_count": null,
      "metadata": {
        "id": "IsNTSBAaWQJ6"
      },
      "outputs": [],
      "source": [
        "loss_fn=F.cross_entropy"
      ]
    },
    {
      "cell_type": "code",
      "execution_count": null,
      "metadata": {
        "colab": {
          "base_uri": "https://localhost:8080/"
        },
        "id": "gih9JOJyX6KW",
        "outputId": "e4773ae9-7821-495e-8099-f09e815a3644"
      },
      "outputs": [
        {
          "output_type": "stream",
          "name": "stdout",
          "text": [
            "tensor(2.3213, grad_fn=<NllLossBackward0>)\n"
          ]
        }
      ],
      "source": [
        "#Loss for current batch of data\n",
        "loss=loss_fn(outputs,labels)\n",
        "print(loss)"
      ]
    },
    {
      "cell_type": "markdown",
      "metadata": {
        "id": "j-XCApH0ZFEJ"
      },
      "source": [
        "we know that cross_entropy is the negative logarithm of the predicted probability of the correct label averaged over all training samples. therefore ,one way to interpret the resulting number e.g 2.23 is look at e^-2.23 which is around 0.1 as the predicted probability of the correct label, on average. the lower the loss the better the model"
      ]
    },
    {
      "cell_type": "markdown",
      "metadata": {
        "id": "dj3JmmssZq41"
      },
      "source": [
        "# Training the model\n"
      ]
    },
    {
      "cell_type": "markdown",
      "metadata": {
        "id": "_9ERvhP8jyBW"
      },
      "source": [
        "Pseudocode"
      ]
    },
    {
      "cell_type": "code",
      "execution_count": null,
      "metadata": {
        "colab": {
          "base_uri": "https://localhost:8080/",
          "height": 87
        },
        "id": "xOS6R7MBYFFk",
        "outputId": "3baa0a4f-5037-45f3-898a-4cbc6643581d"
      },
      "outputs": [
        {
          "output_type": "execute_result",
          "data": {
            "text/plain": [
              "' pseudocode\\nfor epoch in range(num_epochs):\\n  #Training phase\\n\\n  for batch in train_loader:\\n    #generate predictions\\n    #calculate loss\\n    #compute gradients\\n    #update weights\\n    #reset gradients\\n\\n  #Validation Phase\\n  for  batch in val_loader:\\n    pass\\n    #generate predicitons\\n    #calculate loss\\n    #calculate metrics(accuracy etc.)\\n\\n#Calculate average validation loss & metrics\\n\\n#Log epoch, loss & metric for inspection\\n'"
            ],
            "application/vnd.google.colaboratory.intrinsic+json": {
              "type": "string"
            }
          },
          "metadata": {},
          "execution_count": 40
        }
      ],
      "source": [
        "''' pseudocode\n",
        "for epoch in range(num_epochs):\n",
        "  #Training phase\n",
        "\n",
        "  for batch in train_loader:\n",
        "    #generate predictions\n",
        "    #calculate loss\n",
        "    #compute gradients\n",
        "    #update weights\n",
        "    #reset gradients\n",
        "\n",
        "  #Validation Phase\n",
        "  for  batch in val_loader:\n",
        "    pass\n",
        "    #generate predicitons\n",
        "    #calculate loss\n",
        "    #calculate metrics(accuracy etc.)\n",
        "\n",
        "#Calculate average validation loss & metrics\n",
        "\n",
        "#Log epoch, loss & metric for inspection\n",
        "'''"
      ]
    },
    {
      "cell_type": "markdown",
      "metadata": {
        "id": "8HeaPZAPcARE"
      },
      "source": [
        "we'll include the problem-independent parts within a function called for which will be used to train the model . The problem_specific parts will be implemented by adding new methods to the nn.Module class"
      ]
    },
    {
      "cell_type": "code",
      "execution_count": null,
      "metadata": {
        "id": "FYHqcUOZaVe2"
      },
      "outputs": [],
      "source": [
        "def fit(epochs,lr,model,train_loader,val_loader,opt_func=torch.optim.SGD):\n",
        "  optimizer=opt_func(model.parameters(),lr)\n",
        "  history=[] #for recording epoch-wise results\n",
        "\n",
        "  for epoch in range(epochs):\n",
        "\n",
        "    #Training phase\n",
        "    for batch in train_loader:\n",
        "      loss=model.training_step(batch)\n",
        "      loss.backward()\n",
        "      optimizer.step()\n",
        "      optimizer.zero_grad()\n",
        "\n",
        "    #Validation Phase\n",
        "    result=evaluate(model,val_loader)\n",
        "    model.epoch_end(epoch,result)\n",
        "    history.append(result)\n",
        "  return history\n"
      ]
    },
    {
      "cell_type": "markdown",
      "metadata": {
        "id": "bJhZYc_TfA4R"
      },
      "source": [
        "The fir function records the validation loss and metric from each epoch. It returns a history of the training, useful for debugging & visualization.\n",
        "\n",
        "Configuration like batch size, learning rate ,etc (called hyperparameters),need to picked in advanced while training machien learning models. Choosing the right hyperparameters is critical for training a reasonably accurate model within a reasonable amount of time. It is an active are of research and experimentation in machine learning .\n",
        "\n",
        "evaluate function used in the calidation pahse of fit"
      ]
    },
    {
      "cell_type": "code",
      "execution_count": null,
      "metadata": {
        "id": "BvWtVXxneiiN"
      },
      "outputs": [],
      "source": [
        "def evaluate(model,val_loader):\n",
        "  outputs=[model.validation_step(batch) for batch in val_loader]\n",
        "  return model.validation_epoch_end(outputs)"
      ]
    },
    {
      "cell_type": "markdown",
      "metadata": {
        "id": "_ogJc-PFgV9g"
      },
      "source": [
        "Finally redefine the MnistModel class to include additional methods training_step,validation_step,validation_epoch_end and epoch_end used by fit and evaluate"
      ]
    },
    {
      "cell_type": "code",
      "execution_count": null,
      "metadata": {
        "id": "2vOUhqiKhUiA"
      },
      "outputs": [],
      "source": [
        "class MnistModel(nn.Module):\n",
        "  def __init__(self):\n",
        "    super().__init__()\n",
        "    self.linear=nn.Linear(input_size,num_classes)\n",
        "\n",
        "  def forward(self,xb):\n",
        "    xb=xb.reshape(-1,784)\n",
        "    out =self.linear(xb)\n",
        "    return out\n",
        "\n",
        "  def training_step(self,batch):\n",
        "    images,labels=batch\n",
        "    out=self(images)   #generate predictions\n",
        "    loss=F.cross_entropy(out,labels)#Calculate loss\n",
        "    return loss\n",
        "\n",
        "  def validation_step(self,batch):\n",
        "    images,labels=batch\n",
        "    out=self(images) #Generate predictions\n",
        "    loss=F.cross_entropy(out,labels) #Calculate loss\n",
        "    acc=accuracy(out,labels) #Calculate accuracy\n",
        "    return {'val_loss':loss,'val_acc':acc}\n",
        "\n",
        "  def validation_epoch_end(self,outputs):\n",
        "    batch_losses=[x['val_loss'] for x in outputs]\n",
        "    epoch_loss=torch.stack(batch_losses).mean() #combine losses\n",
        "    batch_accs=[x['val_acc'] for x in outputs]\n",
        "    epoch_acc=torch.stack(batch_accs).mean() # Combine accuracies\n",
        "    return {'val_loss':epoch_loss.item(),'val_acc':epoch_acc.item()}\n",
        "\n",
        "  def epoch_end(self,epoch,result):\n",
        "    print(\"Epoch[{}],val_loss: {:.4f},val_acc: {:.4f}\".format(epoch,result['val_loss'],result['val_acc']))\n",
        "model=MnistModel()\n",
        "\n",
        "\n",
        "\n",
        "\n",
        "\n"
      ]
    },
    {
      "cell_type": "code",
      "execution_count": null,
      "metadata": {
        "colab": {
          "base_uri": "https://localhost:8080/"
        },
        "id": "KiGB-aZTmQrN",
        "outputId": "afda3adf-1479-448a-ce58-745bdd4a6a8d"
      },
      "outputs": [
        {
          "output_type": "execute_result",
          "data": {
            "text/plain": [
              "{'val_loss': 2.3205254077911377, 'val_acc': 0.10136471688747406}"
            ]
          },
          "metadata": {},
          "execution_count": 44
        }
      ],
      "source": [
        "result0=evaluate(model,val_loader)\n",
        "result0"
      ]
    },
    {
      "cell_type": "markdown",
      "metadata": {
        "id": "c71Xv_bzpln6"
      },
      "source": [
        "Train the model. for 5 epochs and loot at the results"
      ]
    },
    {
      "cell_type": "code",
      "execution_count": null,
      "metadata": {
        "colab": {
          "base_uri": "https://localhost:8080/"
        },
        "id": "PFfyRqMFmXpz",
        "outputId": "58224871-e6b3-4760-cf96-5db4d3b23c18"
      },
      "outputs": [
        {
          "output_type": "stream",
          "name": "stdout",
          "text": [
            "Epoch[0],val_loss: 1.9560,val_acc: 0.5957\n",
            "Epoch[1],val_loss: 1.6828,val_acc: 0.7345\n",
            "Epoch[2],val_loss: 1.4784,val_acc: 0.7761\n",
            "Epoch[3],val_loss: 1.3241,val_acc: 0.7962\n",
            "Epoch[4],val_loss: 1.2056,val_acc: 0.8091\n"
          ]
        }
      ],
      "source": [
        "history=fit(5,0.001,model,train_loader,val_loader)"
      ]
    },
    {
      "cell_type": "code",
      "execution_count": null,
      "metadata": {
        "id": "Lko_krB3p1EP",
        "colab": {
          "base_uri": "https://localhost:8080/"
        },
        "outputId": "71a81034-e8cd-4dd9-dfe0-8576bfed7be6"
      },
      "outputs": [
        {
          "output_type": "stream",
          "name": "stdout",
          "text": [
            "Epoch[0],val_loss: 1.1126,val_acc: 0.8185\n",
            "Epoch[1],val_loss: 1.0380,val_acc: 0.8247\n",
            "Epoch[2],val_loss: 0.9770,val_acc: 0.8300\n",
            "Epoch[3],val_loss: 0.9264,val_acc: 0.8351\n",
            "Epoch[4],val_loss: 0.8835,val_acc: 0.8387\n"
          ]
        }
      ],
      "source": [
        "history2=fit(5,0.001,model,train_loader,val_loader)"
      ]
    },
    {
      "cell_type": "code",
      "execution_count": null,
      "metadata": {
        "id": "k78VYVG68UqE",
        "colab": {
          "base_uri": "https://localhost:8080/"
        },
        "outputId": "f5490f0e-3637-4142-d6d8-5439cdb5501d"
      },
      "outputs": [
        {
          "output_type": "stream",
          "name": "stdout",
          "text": [
            "Epoch[0],val_loss: 0.8469,val_acc: 0.8420\n",
            "Epoch[1],val_loss: 0.8151,val_acc: 0.8444\n",
            "Epoch[2],val_loss: 0.7873,val_acc: 0.8470\n",
            "Epoch[3],val_loss: 0.7628,val_acc: 0.8498\n",
            "Epoch[4],val_loss: 0.7409,val_acc: 0.8507\n"
          ]
        }
      ],
      "source": [
        "history3=fit(5,0.001,model,train_loader,val_loader)"
      ]
    },
    {
      "cell_type": "code",
      "execution_count": null,
      "metadata": {
        "id": "lVTzoo2_91cN",
        "colab": {
          "base_uri": "https://localhost:8080/"
        },
        "outputId": "c84a56f5-a4b4-4dcc-ae8a-6aa0a4fbaada"
      },
      "outputs": [
        {
          "output_type": "stream",
          "name": "stdout",
          "text": [
            "Epoch[0],val_loss: 0.7213,val_acc: 0.8525\n",
            "Epoch[1],val_loss: 0.7037,val_acc: 0.8546\n",
            "Epoch[2],val_loss: 0.6877,val_acc: 0.8564\n",
            "Epoch[3],val_loss: 0.6730,val_acc: 0.8583\n",
            "Epoch[4],val_loss: 0.6596,val_acc: 0.8597\n"
          ]
        }
      ],
      "source": [
        "history4=fit(5,0.001,model,train_loader,val_loader)"
      ]
    },
    {
      "cell_type": "markdown",
      "metadata": {
        "id": "bqMgMb3i-YHf"
      },
      "source": [
        "While the ccuracy continue to increase as we train for more epochs, the improvements get smaller with every epoch. Let's visualize this using a line graph."
      ]
    },
    {
      "cell_type": "code",
      "execution_count": null,
      "metadata": {
        "id": "wCOwqyXX-ER9",
        "colab": {
          "base_uri": "https://localhost:8080/",
          "height": 472
        },
        "outputId": "eab56e11-6ad3-4d5d-c426-a92e396de71b"
      },
      "outputs": [
        {
          "output_type": "display_data",
          "data": {
            "text/plain": [
              "<Figure size 640x480 with 1 Axes>"
            ],
            "image/png": "[encoded data removed]"
          },
          "metadata": {}
        }
      ],
      "source": [
        "history=[result0]+history+history2+history3+history4\n",
        "accuracies=[result['val_acc'] for result in history]\n",
        "plt.plot(accuracies, '-x')\n",
        "plt.xlabel('epoch')\n",
        "plt.ylabel('accuracy')\n",
        "plt.title('Accuracy vs. No. of epochs');\n"
      ]
    },
    {
      "cell_type": "markdown",
      "metadata": {
        "id": "P-kPLmrgBUh6"
      },
      "source": [
        "# Testing with individual images\n",
        "\n",
        "While we have been tracking the overall accuracyof a model so far,it's  also a good idea to look at model's result on some sample images. Let's test out our model with some images from the predefined test dataset of 10000images. We begin by recreating the test dataset with the ToTensor transform"
      ]
    },
    {
      "cell_type": "code",
      "execution_count": null,
      "metadata": {
        "id": "OtxIiEGh_cEt"
      },
      "outputs": [],
      "source": [
        "\n",
        "#define test Dataset\n",
        "test_dataset=MNIST(root='data/',train=False,transform=transforms.ToTensor())"
      ]
    },
    {
      "cell_type": "markdown",
      "metadata": {
        "id": "PyNZkBDFD2JT"
      },
      "source": [
        "sample image from the dataset\n",
        "\n"
      ]
    },
    {
      "cell_type": "code",
      "execution_count": null,
      "metadata": {
        "id": "cFd4BRY1Dflr",
        "colab": {
          "base_uri": "https://localhost:8080/",
          "height": 465
        },
        "outputId": "0323f993-9451-4b5e-b828-28fa410339bf"
      },
      "outputs": [
        {
          "output_type": "stream",
          "name": "stdout",
          "text": [
            "Shape: torch.Size([1, 28, 28])\n",
            "Label: 7\n"
          ]
        },
        {
          "output_type": "display_data",
          "data": {
            "text/plain": [
              "<Figure size 640x480 with 1 Axes>"
            ],
            "image/png": "[encoded data removed]"
          },
          "metadata": {}
        }
      ],
      "source": [
        "img,label=test_dataset[0]\n",
        "plt.imshow(img[0],cmap='gray')\n",
        "print('Shape:',img.shape)\n",
        "print('Label:',label)"
      ]
    },
    {
      "cell_type": "markdown",
      "metadata": {
        "id": "h699wjY_rMnP"
      },
      "source": [
        "Let's define a helper function predict_image, which return the predict_image which return the predicted label for a single image tensor."
      ]
    },
    {
      "cell_type": "code",
      "execution_count": null,
      "metadata": {
        "id": "zRibwjdAEXnq",
        "colab": {
          "base_uri": "https://localhost:8080/"
        },
        "outputId": "f2a81f6f-b948-4cd1-d92c-2d2beea7cf01"
      },
      "outputs": [
        {
          "output_type": "execute_result",
          "data": {
            "text/plain": [
              "torch.Size([1, 1, 28, 28])"
            ]
          },
          "metadata": {},
          "execution_count": 53
        }
      ],
      "source": [
        " img.unsqueeze(0).shape\n"
      ]
    },
    {
      "cell_type": "code",
      "execution_count": null,
      "metadata": {
        "id": "HFQGK2TRtJBe"
      },
      "outputs": [],
      "source": [
        "def predict_image(img,model):\n",
        "  xb=img.unsqueeze(0)\n",
        "  yb=model(xb)\n",
        "  _,preds=torch.max(yb,dim=1)\n",
        "  return preds[0].item()"
      ]
    },
    {
      "cell_type": "markdown",
      "metadata": {
        "id": "N6rrbhoJuI7C"
      },
      "source": [
        "img.unsqueeze simply adds another dimension at the beginging of the 1x28x28 tensor ,making it a 1x1x28x28 tensor, which the model views as a batch containing a single image.\n",
        "\n",
        "\n",
        "let's try it out with a  few images"
      ]
    },
    {
      "cell_type": "code",
      "execution_count": null,
      "metadata": {
        "id": "x05btcpluDdI",
        "colab": {
          "base_uri": "https://localhost:8080/",
          "height": 447
        },
        "outputId": "890734a1-13b2-4655-f7da-f2a1eb66cdd3"
      },
      "outputs": [
        {
          "output_type": "stream",
          "name": "stdout",
          "text": [
            "Label : 7 Predicted:  7\n"
          ]
        },
        {
          "output_type": "display_data",
          "data": {
            "text/plain": [
              "<Figure size 640x480 with 1 Axes>"
            ],
            "image/png": "[encoded data removed]"
          },
          "metadata": {}
        }
      ],
      "source": [
        "img, label=test_dataset[0]\n",
        "plt.imshow(img[0],cmap='gray')\n",
        "print(\"Label :\",label,\"Predicted: \",predict_image(img,model))"
      ]
    },
    {
      "cell_type": "code",
      "execution_count": null,
      "metadata": {
        "id": "XN9W21sYvAiT",
        "colab": {
          "base_uri": "https://localhost:8080/",
          "height": 447
        },
        "outputId": "9b1c2224-cad4-43dc-8f6f-5f231faa52d2"
      },
      "outputs": [
        {
          "output_type": "stream",
          "name": "stdout",
          "text": [
            "Label : 0 Predicted:  0\n"
          ]
        },
        {
          "output_type": "display_data",
          "data": {
            "text/plain": [
              "<Figure size 640x480 with 1 Axes>"
            ],
            "image/png": "[encoded data removed]"
          },
          "metadata": {}
        }
      ],
      "source": [
        "img, label=test_dataset[10]\n",
        "plt.imshow(img[0],cmap='gray')\n",
        "print(\"Label :\",label,\"Predicted: \",predict_image(img,model))"
      ]
    },
    {
      "cell_type": "code",
      "execution_count": null,
      "metadata": {
        "id": "HCmjtsTCwAmI",
        "colab": {
          "base_uri": "https://localhost:8080/",
          "height": 447
        },
        "outputId": "c1c3bfdc-222b-49fa-a3db-73d57eb60b79"
      },
      "outputs": [
        {
          "output_type": "stream",
          "name": "stdout",
          "text": [
            "Label : 1 Predicted:  1\n"
          ]
        },
        {
          "output_type": "display_data",
          "data": {
            "text/plain": [
              "<Figure size 640x480 with 1 Axes>"
            ],
            "image/png": "[encoded data removed]"
          },
          "metadata": {}
        }
      ],
      "source": [
        "img, label=test_dataset[265]\n",
        "plt.imshow(img[0],cmap='gray')\n",
        "print(\"Label :\",label,\"Predicted: \",predict_image(img,model))"
      ]
    },
    {
      "cell_type": "code",
      "execution_count": null,
      "metadata": {
        "id": "zVKZJY6GwEJ7",
        "colab": {
          "base_uri": "https://localhost:8080/",
          "height": 447
        },
        "outputId": "ac85133b-cd07-4864-f18a-05fd03254c51"
      },
      "outputs": [
        {
          "output_type": "stream",
          "name": "stdout",
          "text": [
            "Label : 9 Predicted:  4\n"
          ]
        },
        {
          "output_type": "display_data",
          "data": {
            "text/plain": [
              "<Figure size 640x480 with 1 Axes>"
            ],
            "image/png": "[encoded data removed]"
          },
          "metadata": {}
        }
      ],
      "source": [
        "img, label=test_dataset[193]\n",
        "plt.imshow(img[0],cmap='gray')\n",
        "print(\"Label :\",label,\"Predicted: \",predict_image(img,model))"
      ]
    },
    {
      "cell_type": "code",
      "execution_count": null,
      "metadata": {
        "id": "3LEDC9l5wJSc",
        "colab": {
          "base_uri": "https://localhost:8080/",
          "height": 447
        },
        "outputId": "a2812826-5eb8-4d07-beb5-8508b5f4d252"
      },
      "outputs": [
        {
          "output_type": "stream",
          "name": "stdout",
          "text": [
            "Label : 2 Predicted:  8\n"
          ]
        },
        {
          "output_type": "display_data",
          "data": {
            "text/plain": [
              "<Figure size 640x480 with 1 Axes>"
            ],
            "image/png": "[encoded data removed]"
          },
          "metadata": {}
        }
      ],
      "source": [
        "img, label=test_dataset[1839]\n",
        "plt.imshow(img[0],cmap='gray')\n",
        "print(\"Label :\",label,\"Predicted: \",predict_image(img,model))"
      ]
    },
    {
      "cell_type": "markdown",
      "metadata": {
        "id": "73YDi9rNxZCh"
      },
      "source": [
        "Identifying where our model performs poorly can help us improve the model , by collecting more training data, increasing/decreasing the complexity of the model , and changing the hyperparameters.\n",
        "\n",
        "As a final step,let's also look at the overall loss and accuracy of the model on the test set"
      ]
    },
    {
      "cell_type": "code",
      "execution_count": null,
      "metadata": {
        "id": "_uqGBuQlwOU9",
        "colab": {
          "base_uri": "https://localhost:8080/"
        },
        "outputId": "32749968-9f42-4818-de80-7db7eccdc3c5"
      },
      "outputs": [
        {
          "output_type": "execute_result",
          "data": {
            "text/plain": [
              "{'val_loss': 0.6409626007080078, 'val_acc': 0.862500011920929}"
            ]
          },
          "metadata": {},
          "execution_count": 60
        }
      ],
      "source": [
        "test_loader=DataLoader(test_dataset,batch_size=256)\n",
        "result=evaluate(model,test_loader)\n",
        "result"
      ]
    },
    {
      "cell_type": "markdown",
      "metadata": {
        "id": "MejJG4hsyu_b"
      },
      "source": [
        "We exect this to be similar to the accuracy/loss on the validation set. If not ,we might need a better validation set that has similar data and distribution as the test set(which often comes from real world data)."
      ]
    },
    {
      "cell_type": "markdown",
      "metadata": {
        "id": "jm71sYKQ1tmT"
      },
      "source": [
        "# Saving and loading the model"
      ]
    },
    {
      "cell_type": "markdown",
      "metadata": {
        "id": "cWi8isM51xcz"
      },
      "source": [
        "Since we've trained our model for a long time and achieved a reasonable accuracy, it would be a good idea to save the weights and bias matrics to disk, so that we can reuse the model later and avoid retraining from scratch. Here's how you can save the model."
      ]
    },
    {
      "cell_type": "code",
      "execution_count": null,
      "metadata": {
        "id": "sGVl2IBxydNG"
      },
      "outputs": [],
      "source": [
        "torch.save(model.state_dict(),'mnist-logistic.pth')"
      ]
    },
    {
      "cell_type": "code",
      "execution_count": null,
      "metadata": {
        "id": "qtVzHLGR2e_0",
        "colab": {
          "base_uri": "https://localhost:8080/"
        },
        "outputId": "62fca67c-b07c-4ed2-90a2-fe272156e309"
      },
      "outputs": [
        {
          "output_type": "execute_result",
          "data": {
            "text/plain": [
              "OrderedDict([('linear.weight',\n",
              "              tensor([[ 0.0085,  0.0066,  0.0140,  ..., -0.0127, -0.0318,  0.0305],\n",
              "                      [-0.0201, -0.0055, -0.0047,  ..., -0.0056,  0.0318,  0.0132],\n",
              "                      [ 0.0213, -0.0309,  0.0084,  ...,  0.0199,  0.0012, -0.0241],\n",
              "                      ...,\n",
              "                      [ 0.0326, -0.0060, -0.0274,  ..., -0.0139,  0.0155, -0.0241],\n",
              "                      [-0.0037,  0.0289,  0.0235,  ..., -0.0232, -0.0324, -0.0172],\n",
              "                      [-0.0116,  0.0066, -0.0025,  ...,  0.0318, -0.0015,  0.0126]])),\n",
              "             ('linear.bias',\n",
              "              tensor([-0.0268,  0.0703, -0.0350, -0.0421,  0.0059,  0.0336, -0.0063,  0.0529,\n",
              "                      -0.1211, -0.0190]))])"
            ]
          },
          "metadata": {},
          "execution_count": 62
        }
      ],
      "source": [
        "model.state_dict()"
      ]
    },
    {
      "cell_type": "markdown",
      "metadata": {
        "id": "Y2xy0v7E3ohk"
      },
      "source": [
        "To load the model weights we can instante a new object of the class MnistModel and use the .load_state_dict method"
      ]
    },
    {
      "cell_type": "code",
      "execution_count": null,
      "metadata": {
        "id": "RAc0Xcqh2kxM"
      },
      "outputs": [],
      "source": [
        "model2=MnistModel()\n"
      ]
    },
    {
      "cell_type": "code",
      "execution_count": null,
      "metadata": {
        "id": "LSwh7meHHWc2",
        "colab": {
          "base_uri": "https://localhost:8080/"
        },
        "outputId": "449ab1c2-ba2e-4487-a6f3-6d4ffe9bd7c3"
      },
      "outputs": [
        {
          "output_type": "execute_result",
          "data": {
            "text/plain": [
              "OrderedDict([('linear.weight',\n",
              "              tensor([[-0.0207,  0.0178,  0.0043,  ..., -0.0212,  0.0004, -0.0277],\n",
              "                      [-0.0354, -0.0051,  0.0101,  ...,  0.0057,  0.0339,  0.0340],\n",
              "                      [ 0.0326, -0.0319,  0.0222,  ...,  0.0205,  0.0348, -0.0164],\n",
              "                      ...,\n",
              "                      [ 0.0128,  0.0056, -0.0199,  ..., -0.0227,  0.0204,  0.0259],\n",
              "                      [ 0.0224,  0.0032, -0.0056,  ...,  0.0328,  0.0181, -0.0081],\n",
              "                      [-0.0321,  0.0072, -0.0245,  ..., -0.0154,  0.0090,  0.0339]])),\n",
              "             ('linear.bias',\n",
              "              tensor([ 0.0129, -0.0218, -0.0189, -0.0115, -0.0252,  0.0005,  0.0146,  0.0313,\n",
              "                      -0.0108,  0.0080]))])"
            ]
          },
          "metadata": {},
          "execution_count": 64
        }
      ],
      "source": [
        "model2.state_dict()"
      ]
    },
    {
      "cell_type": "markdown",
      "metadata": {
        "id": "oMESVOGOHpQG"
      },
      "source": [
        "Just as a sanity check, let's verify that this model has the same loss and accuracy on the test set as before"
      ]
    },
    {
      "cell_type": "code",
      "execution_count": null,
      "metadata": {
        "id": "xX9LKaAsHj7q",
        "colab": {
          "base_uri": "https://localhost:8080/"
        },
        "outputId": "4d45c5a2-8809-4fd1-c2e1-f6873c1cf79a"
      },
      "outputs": [
        {
          "output_type": "execute_result",
          "data": {
            "text/plain": [
              "{'val_loss': 2.3208000659942627, 'val_acc': 0.09414062649011612}"
            ]
          },
          "metadata": {},
          "execution_count": 65
        }
      ],
      "source": [
        "test_loader=DataLoader(test_dataset,batch_size=256)\n",
        "result=evaluate(model2,test_loader)\n",
        "result"
      ]
    },
    {
      "cell_type": "code",
      "execution_count": null,
      "metadata": {
        "id": "Go2Fq0VaIClb"
      },
      "outputs": [],
      "source": []
    }
  ],
  "metadata": {
    "colab": {
      "provenance": [],
      "include_colab_link": true
    },
    "kernelspec": {
      "display_name": "Python 3",
      "name": "python3"
    },
    "language_info": {
      "name": "python"
    }
  },
  "nbformat": 4,
  "nbformat_minor": 0
}