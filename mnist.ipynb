{
  "cells": [
    {
      "cell_type": "markdown",
      "metadata": {
        "id": "view-in-github",
        "colab_type": "text"
      },
      "source": [
        "<a href=\"https://colab.research.google.com/github/sruthikoyya/Deep-Learning/blob/main/mnist.ipynb\" target=\"_parent\"><img src=\"https://colab.research.google.com/assets/colab-badge.svg\" alt=\"Open In Colab\"/></a>"
      ]
    },
    {
      "cell_type": "code",
      "execution_count": null,
      "metadata": {
        "id": "CfSVJnc4RJAU"
      },
      "outputs": [],
      "source": [
        "import torch\n",
        "import torchvision\n",
        "from torchvision.datasets import MNIST"
      ]
    },
    {
      "cell_type": "code",
      "execution_count": null,
      "metadata": {
        "colab": {
          "base_uri": "https://localhost:8080/"
        },
        "id": "lZIpdJque59n",
        "outputId": "ee0e4e7e-52b8-4673-e61c-a2805dbf8c68"
      },
      "outputs": [
        {
          "name": "stdout",
          "output_type": "stream",
          "text": [
            "Downloading http://yann.lecun.com/exdb/mnist/train-images-idx3-ubyte.gz\n",
            "Failed to download (trying next):\n",
            "HTTP Error 403: Forbidden\n",
            "\n",
            "Downloading https://ossci-datasets.s3.amazonaws.com/mnist/train-images-idx3-ubyte.gz\n",
            "Downloading https://ossci-datasets.s3.amazonaws.com/mnist/train-images-idx3-ubyte.gz to data/MNIST/raw/train-images-idx3-ubyte.gz\n"
          ]
        },
        {
          "name": "stderr",
          "output_type": "stream",
          "text": [
            "100%|██████████| 9.91M/9.91M [00:00<00:00, 39.1MB/s]\n"
          ]
        },
        {
          "name": "stdout",
          "output_type": "stream",
          "text": [
            "Extracting data/MNIST/raw/train-images-idx3-ubyte.gz to data/MNIST/raw\n",
            "\n",
            "Downloading http://yann.lecun.com/exdb/mnist/train-labels-idx1-ubyte.gz\n",
            "Failed to download (trying next):\n",
            "HTTP Error 403: Forbidden\n",
            "\n",
            "Downloading https://ossci-datasets.s3.amazonaws.com/mnist/train-labels-idx1-ubyte.gz\n",
            "Downloading https://ossci-datasets.s3.amazonaws.com/mnist/train-labels-idx1-ubyte.gz to data/MNIST/raw/train-labels-idx1-ubyte.gz\n"
          ]
        },
        {
          "name": "stderr",
          "output_type": "stream",
          "text": [
            "100%|██████████| 28.9k/28.9k [00:00<00:00, 1.32MB/s]\n"
          ]
        },
        {
          "name": "stdout",
          "output_type": "stream",
          "text": [
            "Extracting data/MNIST/raw/train-labels-idx1-ubyte.gz to data/MNIST/raw\n",
            "\n",
            "Downloading http://yann.lecun.com/exdb/mnist/t10k-images-idx3-ubyte.gz\n",
            "Failed to download (trying next):\n",
            "HTTP Error 403: Forbidden\n",
            "\n",
            "Downloading https://ossci-datasets.s3.amazonaws.com/mnist/t10k-images-idx3-ubyte.gz\n",
            "Downloading https://ossci-datasets.s3.amazonaws.com/mnist/t10k-images-idx3-ubyte.gz to data/MNIST/raw/t10k-images-idx3-ubyte.gz\n"
          ]
        },
        {
          "name": "stderr",
          "output_type": "stream",
          "text": [
            "100%|██████████| 1.65M/1.65M [00:00<00:00, 9.29MB/s]\n"
          ]
        },
        {
          "name": "stdout",
          "output_type": "stream",
          "text": [
            "Extracting data/MNIST/raw/t10k-images-idx3-ubyte.gz to data/MNIST/raw\n",
            "\n",
            "Downloading http://yann.lecun.com/exdb/mnist/t10k-labels-idx1-ubyte.gz\n",
            "Failed to download (trying next):\n",
            "HTTP Error 403: Forbidden\n",
            "\n",
            "Downloading https://ossci-datasets.s3.amazonaws.com/mnist/t10k-labels-idx1-ubyte.gz\n",
            "Downloading https://ossci-datasets.s3.amazonaws.com/mnist/t10k-labels-idx1-ubyte.gz to data/MNIST/raw/t10k-labels-idx1-ubyte.gz\n"
          ]
        },
        {
          "name": "stderr",
          "output_type": "stream",
          "text": [
            "100%|██████████| 4.54k/4.54k [00:00<00:00, 5.15MB/s]"
          ]
        },
        {
          "name": "stdout",
          "output_type": "stream",
          "text": [
            "Extracting data/MNIST/raw/t10k-labels-idx1-ubyte.gz to data/MNIST/raw\n",
            "\n"
          ]
        },
        {
          "name": "stderr",
          "output_type": "stream",
          "text": [
            "\n"
          ]
        }
      ],
      "source": [
        "dataset=MNIST(root='data/', download=True)"
      ]
    },
    {
      "cell_type": "code",
      "execution_count": null,
      "metadata": {
        "colab": {
          "base_uri": "https://localhost:8080/"
        },
        "id": "yNTuTwBDfQRs",
        "outputId": "2370b8f0-660c-4bbc-b437-f1b09e5ca6f9"
      },
      "outputs": [
        {
          "data": {
            "text/plain": [
              "60000"
            ]
          },
          "execution_count": 4,
          "metadata": {},
          "output_type": "execute_result"
        }
      ],
      "source": [
        "len(dataset)"
      ]
    },
    {
      "cell_type": "code",
      "execution_count": null,
      "metadata": {
        "colab": {
          "base_uri": "https://localhost:8080/"
        },
        "id": "qmqgaIe_fX_f",
        "outputId": "41b40e5a-f5aa-4022-c16f-d5e447eaaee2"
      },
      "outputs": [
        {
          "data": {
            "text/plain": [
              "10000"
            ]
          },
          "execution_count": 5,
          "metadata": {},
          "output_type": "execute_result"
        }
      ],
      "source": [
        "test_dataset=MNIST(root='data/',train=False)\n",
        "len(test_dataset)"
      ]
    },
    {
      "cell_type": "code",
      "execution_count": null,
      "metadata": {
        "colab": {
          "base_uri": "https://localhost:8080/"
        },
        "id": "e2g9czWnfuxV",
        "outputId": "95052990-9479-4a50-f578-5d1bccffeaa8"
      },
      "outputs": [
        {
          "data": {
            "text/plain": [
              "(<PIL.Image.Image image mode=L size=28x28>, 5)"
            ]
          },
          "execution_count": 6,
          "metadata": {},
          "output_type": "execute_result"
        }
      ],
      "source": [
        "dataset[0]"
      ]
    },
    {
      "cell_type": "markdown",
      "metadata": {
        "id": "aYtOLHzLgMlj"
      },
      "source": [
        "Its a pair ,consisting of a 28x28 px image and a  label. The image is an object of the class PIL.Image.Image which is a part of the Python imaging libary PILLOW. We can view the image within JUPYTER using matplotlib the de-facto plotting and graphing library for the science in Pyton"
      ]
    },
    {
      "cell_type": "code",
      "execution_count": null,
      "metadata": {
        "id": "G0paJwEDgx81"
      },
      "outputs": [],
      "source": [
        "import matplotlib.pyplot as plt\n",
        "%matplotlib inline"
      ]
    },
    {
      "cell_type": "markdown",
      "metadata": {
        "id": "ue78NPfEhScx"
      },
      "source": [
        "The Satement %matplot inline indicates to jupyter notebook that we want to ploat the graph within the notebook . Without this line ,Jupyter will show the image in a popup. Satement staring with % are called magic commands and are used to configure the behavior of Jupyter itself."
      ]
    },
    {
      "cell_type": "code",
      "execution_count": null,
      "metadata": {
        "colab": {
          "base_uri": "https://localhost:8080/",
          "height": 447
        },
        "id": "JdYMkzJ4h6dM",
        "outputId": "ca74da6b-5ba7-4425-e8fa-5186e2d595a2"
      },
      "outputs": [
        {
          "name": "stdout",
          "output_type": "stream",
          "text": [
            "Lable :  5\n"
          ]
        },
        {
          "data": {
            "image/png": "[encoded data removed]",
            "text/plain": [
              "<Figure size 640x480 with 1 Axes>"
            ]
          },
          "metadata": {},
          "output_type": "display_data"
        }
      ],
      "source": [
        "image,label=dataset[0]\n",
        "plt.imshow(image,cmap='gray')\n",
        "print(\"Lable : \",label)"
      ]
    },
    {
      "cell_type": "code",
      "execution_count": null,
      "metadata": {
        "colab": {
          "base_uri": "https://localhost:8080/",
          "height": 447
        },
        "id": "xtaQqTylOJE8",
        "outputId": "9eff9f46-4a2a-4d4f-f304-0ad6e00946e2"
      },
      "outputs": [
        {
          "name": "stdout",
          "output_type": "stream",
          "text": [
            "Lable :  3\n"
          ]
        },
        {
          "data": {
            "image/png": "[encoded data removed]",
            "text/plain": [
              "<Figure size 640x480 with 1 Axes>"
            ]
          },
          "metadata": {},
          "output_type": "display_data"
        }
      ],
      "source": [
        "image,label=dataset[10]\n",
        "plt.imshow(image,cmap='gray')\n",
        "print(\"Lable : \",label)"
      ]
    },
    {
      "cell_type": "markdown",
      "metadata": {
        "id": "zHAFqrE5OlOP"
      },
      "source": [
        "PyTorch doesn't kow how t work wiht images.We need to convert the images into tensors. We cna do this by specifying a transform while creating out dataset."
      ]
    },
    {
      "cell_type": "code",
      "execution_count": null,
      "metadata": {
        "id": "blQRpWGFO1zc"
      },
      "outputs": [],
      "source": [
        "import torchvision.transforms as transforms"
      ]
    },
    {
      "cell_type": "markdown",
      "metadata": {
        "id": "Bc-tadqPPaDX"
      },
      "source": [
        "ToTensor transform to convert images into PyTorch tensors"
      ]
    },
    {
      "cell_type": "code",
      "execution_count": null,
      "metadata": {
        "id": "I-kibo3lO_Hr"
      },
      "outputs": [],
      "source": [
        "dataset=MNIST(root='data/',train=True,transform=transforms.ToTensor())"
      ]
    },
    {
      "cell_type": "code",
      "execution_count": null,
      "metadata": {
        "colab": {
          "base_uri": "https://localhost:8080/"
        },
        "id": "rshM93t1P8iz",
        "outputId": "cf5c6ee4-7dc4-4c4f-b599-5e0dcc9e138b"
      },
      "outputs": [
        {
          "name": "stdout",
          "output_type": "stream",
          "text": [
            "torch.Size([1, 28, 28]) 5\n"
          ]
        }
      ],
      "source": [
        "img_tensor ,label=dataset[0]\n",
        "print(img_tensor.shape,label)"
      ]
    },
    {
      "cell_type": "code",
      "execution_count": null,
      "metadata": {
        "colab": {
          "base_uri": "https://localhost:8080/"
        },
        "id": "ii71Qyc4QjE-",
        "outputId": "d2b066d5-1463-4773-d24d-98070468cae3"
      },
      "outputs": [
        {
          "name": "stdout",
          "output_type": "stream",
          "text": [
            "tensor([[0.0039, 0.6039, 0.9922, 0.3529, 0.0000],\n",
            "        [0.0000, 0.5451, 0.9922, 0.7451, 0.0078],\n",
            "        [0.0000, 0.0431, 0.7451, 0.9922, 0.2745],\n",
            "        [0.0000, 0.0000, 0.1373, 0.9451, 0.8824],\n",
            "        [0.0000, 0.0000, 0.0000, 0.3176, 0.9412]])\n",
            "tensor(1.) tensor(0.)\n"
          ]
        }
      ],
      "source": [
        "print(img_tensor[0,10:15,10:15])\n",
        "print(torch.max(img_tensor),torch.min(img_tensor))"
      ]
    },
    {
      "cell_type": "markdown",
      "metadata": {
        "id": "3ayB2u8WuaKa"
      },
      "source": [
        "The value range from 0 to 1, with 0 representing black ,1 white, and the value in betweendifferent shades of gray. We can also plot the tensor as an image using plt.imsho"
      ]
    },
    {
      "cell_type": "code",
      "execution_count": null,
      "metadata": {
        "colab": {
          "base_uri": "https://localhost:8080/",
          "height": 447
        },
        "id": "0jk87nTIuKxS",
        "outputId": "3e5e408e-c711-4880-ebc2-c52cb38cf4f0"
      },
      "outputs": [
        {
          "data": {
            "text/plain": [
              "<matplotlib.image.AxesImage at 0x7dc9f5f2f6a0>"
            ]
          },
          "execution_count": 14,
          "metadata": {},
          "output_type": "execute_result"
        },
        {
          "data": {
            "image/png": "[encoded data removed]",
            "text/plain": [
              "<Figure size 640x480 with 1 Axes>"
            ]
          },
          "metadata": {},
          "output_type": "display_data"
        }
      ],
      "source": [
        "#Plot the image bu passing in the 28x28 matrix\n",
        "plt.imshow(img_tensor[0,10:15,10:15],cmap='gray')"
      ]
    },
    {
      "cell_type": "code",
      "execution_count": null,
      "metadata": {
        "id": "rKa8RfpIVDk7"
      },
      "outputs": [],
      "source": []
    },
    {
      "cell_type": "markdown",
      "metadata": {
        "id": "TJSBySKAVxLk"
      },
      "source": [
        "# Training and Validation Datasets\n",
        "Training set use to tain a moded i.e computer the loss and adjust the models weights using gradient descent"
      ]
    },
    {
      "cell_type": "markdown",
      "metadata": {
        "id": "fXVkZKYcWVEy"
      },
      "source": [
        "Validation set used to evaluate the model during training, adjust the hyperparametets (learning rate etc) and pick the best version of the model\n",
        "\n",
        "test set used to compate different models or approaches and report the model'd final accuracy"
      ]
    },
    {
      "cell_type": "code",
      "execution_count": null,
      "metadata": {
        "colab": {
          "base_uri": "https://localhost:8080/"
        },
        "id": "gHn_U09aW0Fv",
        "outputId": "fa77bbc1-8e5f-4273-ee14-bbf02026169e"
      },
      "outputs": [
        {
          "data": {
            "text/plain": [
              "(50000, 10000)"
            ]
          },
          "execution_count": 15,
          "metadata": {},
          "output_type": "execute_result"
        }
      ],
      "source": [
        "from torch.utils.data import random_split\n",
        "train_ds,val_ds=random_split(dataset,[50000,10000])\n",
        "len(train_ds),len(val_ds)"
      ]
    },
    {
      "cell_type": "markdown",
      "metadata": {
        "id": "ffx8xT3EXmMJ"
      },
      "source": [
        "We can now create data loaders to help us to load the data in batches. We'll use a batch size of 128"
      ]
    },
    {
      "cell_type": "code",
      "execution_count": null,
      "metadata": {
        "id": "q3phOSQDXVO_"
      },
      "outputs": [],
      "source": [
        "from torch.utils.data import DataLoader\n",
        "batch_size=128\n",
        "train_loader=DataLoader(train_ds,batch_size,shuffle=True)\n",
        "val_loader=DataLoader(val_ds,batch_size)"
      ]
    },
    {
      "cell_type": "markdown",
      "metadata": {
        "id": "VATxe5FtYcmc"
      },
      "source": [
        "We set shuffle =True for the training data loader to ensure that the  batches generated in each epoch are different. This randomization helps generalize and speed up the training process. On the other hand, since the validation data loader is used only for evaluating the model, there is no need to shuffle the images"
      ]
    },
    {
      "cell_type": "markdown",
      "metadata": {
        "id": "J5tqqXHNY511"
      },
      "source": []
    },
    {
      "cell_type": "code",
      "execution_count": null,
      "metadata": {
        "id": "GiFBkjc7YUFu"
      },
      "outputs": [],
      "source": [
        "import torch.nn as nn\n",
        "\n",
        "input_size=28*28\n",
        "num_classes=10\n",
        "\n",
        "#Logistic regression model\n",
        "model=nn.Linear(input_size,num_classes)"
      ]
    },
    {
      "cell_type": "markdown",
      "metadata": {
        "id": "JPnFlke7acu8"
      },
      "source": [
        "Our model is a lot larger because the input parameters are 28*28"
      ]
    },
    {
      "cell_type": "markdown",
      "metadata": {
        "id": "ydiZ6lIEanXH"
      },
      "source": [
        "Let's take a look at the weights and biases\n",
        "\n"
      ]
    },
    {
      "cell_type": "code",
      "execution_count": null,
      "metadata": {
        "colab": {
          "base_uri": "https://localhost:8080/"
        },
        "id": "IDbFu6C0abrt",
        "outputId": "296f30d9-6d63-4b42-ba09-bec90b33627c"
      },
      "outputs": [
        {
          "name": "stdout",
          "output_type": "stream",
          "text": [
            "torch.Size([10, 784])\n"
          ]
        },
        {
          "data": {
            "text/plain": [
              "Parameter containing:\n",
              "tensor([[ 0.0244,  0.0214, -0.0232,  ..., -0.0191, -0.0064, -0.0045],\n",
              "        [-0.0233,  0.0220, -0.0338,  ..., -0.0180,  0.0019,  0.0112],\n",
              "        [ 0.0045,  0.0319,  0.0202,  ..., -0.0294, -0.0266,  0.0052],\n",
              "        ...,\n",
              "        [ 0.0341, -0.0108,  0.0265,  ...,  0.0162,  0.0054,  0.0156],\n",
              "        [ 0.0187,  0.0213, -0.0216,  ..., -0.0093,  0.0231,  0.0227],\n",
              "        [ 0.0173, -0.0238,  0.0282,  ..., -0.0196, -0.0204, -0.0218]],\n",
              "       requires_grad=True)"
            ]
          },
          "execution_count": 18,
          "metadata": {},
          "output_type": "execute_result"
        }
      ],
      "source": [
        "print(model.weight.shape)\n",
        "model.weight"
      ]
    },
    {
      "cell_type": "code",
      "execution_count": null,
      "metadata": {
        "colab": {
          "base_uri": "https://localhost:8080/"
        },
        "id": "O20dnTz6awlc",
        "outputId": "30799d2e-393a-49a7-fbd2-d665690e0a83"
      },
      "outputs": [
        {
          "name": "stdout",
          "output_type": "stream",
          "text": [
            "torch.Size([10])\n"
          ]
        },
        {
          "data": {
            "text/plain": [
              "Parameter containing:\n",
              "tensor([-0.0324,  0.0091, -0.0157, -0.0326,  0.0193,  0.0270,  0.0133,  0.0084,\n",
              "        -0.0079,  0.0199], requires_grad=True)"
            ]
          },
          "execution_count": 19,
          "metadata": {},
          "output_type": "execute_result"
        }
      ],
      "source": [
        "print(model.bias.shape)\n",
        "model.bias"
      ]
    },
    {
      "cell_type": "markdown",
      "metadata": {
        "id": "we0ylkDKd7ey"
      },
      "source": [
        "Athough there are a total 7850 parameters here, conceptually ,nothing has changed so far. Let's try and generate some output using out model. We'll take the first batch of 100 images from out dataset and pass them into out model"
      ]
    },
    {
      "cell_type": "code",
      "execution_count": null,
      "metadata": {
        "colab": {
          "base_uri": "https://localhost:8080/",
          "height": 495
        },
        "id": "eM4M7nXRdl3Z",
        "outputId": "cccec72a-7fc4-474f-aa61-6a38f58d4c9e"
      },
      "outputs": [
        {
          "name": "stdout",
          "output_type": "stream",
          "text": [
            "tensor([5, 2, 7, 8, 8, 2, 1, 0, 3, 1, 9, 1, 1, 1, 1, 1, 1, 6, 1, 2, 7, 9, 9, 7,\n",
            "        7, 7, 6, 7, 6, 4, 8, 8, 8, 2, 1, 4, 2, 1, 3, 4, 5, 1, 0, 4, 4, 1, 3, 6,\n",
            "        4, 5, 9, 7, 7, 9, 4, 6, 1, 8, 5, 8, 9, 3, 6, 0, 0, 7, 8, 2, 7, 0, 1, 4,\n",
            "        2, 6, 1, 1, 7, 3, 6, 1, 6, 3, 6, 3, 0, 2, 2, 3, 3, 6, 5, 7, 6, 9, 3, 6,\n",
            "        4, 7, 0, 3, 6, 2, 8, 1, 7, 8, 1, 1, 4, 1, 1, 5, 1, 0, 1, 7, 7, 7, 5, 6,\n",
            "        4, 4, 7, 5, 0, 5, 9, 8])\n",
            "torch.Size([128, 1, 28, 28])\n"
          ]
        },
        {
          "ename": "RuntimeError",
          "evalue": "mat1 and mat2 shapes cannot be multiplied (3584x28 and 784x10)",
          "output_type": "error",
          "traceback": [
            "\u001b[0;31m---------------------------------------------------------------------------\u001b[0m",
            "\u001b[0;31mRuntimeError\u001b[0m                              Traceback (most recent call last)",
            "\u001b[0;32m<ipython-input-20-b3d7f480c6d4>\u001b[0m in \u001b[0;36m<cell line: 1>\u001b[0;34m()\u001b[0m\n\u001b[1;32m      2\u001b[0m   \u001b[0mprint\u001b[0m\u001b[0;34m(\u001b[0m\u001b[0mlabels\u001b[0m\u001b[0;34m)\u001b[0m\u001b[0;34m\u001b[0m\u001b[0;34m\u001b[0m\u001b[0m\n\u001b[1;32m      3\u001b[0m   \u001b[0mprint\u001b[0m\u001b[0;34m(\u001b[0m\u001b[0mimages\u001b[0m\u001b[0;34m.\u001b[0m\u001b[0mshape\u001b[0m\u001b[0;34m)\u001b[0m\u001b[0;34m\u001b[0m\u001b[0;34m\u001b[0m\u001b[0m\n\u001b[0;32m----> 4\u001b[0;31m   \u001b[0moutputs\u001b[0m \u001b[0;34m=\u001b[0m\u001b[0mmodel\u001b[0m\u001b[0;34m(\u001b[0m\u001b[0mimages\u001b[0m\u001b[0;34m)\u001b[0m\u001b[0;34m\u001b[0m\u001b[0;34m\u001b[0m\u001b[0m\n\u001b[0m\u001b[1;32m      5\u001b[0m   \u001b[0mprint\u001b[0m\u001b[0;34m(\u001b[0m\u001b[0moutputs\u001b[0m\u001b[0;34m)\u001b[0m\u001b[0;34m\u001b[0m\u001b[0;34m\u001b[0m\u001b[0m\n\u001b[1;32m      6\u001b[0m   \u001b[0;32mbreak\u001b[0m\u001b[0;34m\u001b[0m\u001b[0;34m\u001b[0m\u001b[0m\n",
            "\u001b[0;32m/usr/local/lib/python3.10/dist-packages/torch/nn/modules/module.py\u001b[0m in \u001b[0;36m_wrapped_call_impl\u001b[0;34m(self, *args, **kwargs)\u001b[0m\n\u001b[1;32m   1734\u001b[0m             \u001b[0;32mreturn\u001b[0m \u001b[0mself\u001b[0m\u001b[0;34m.\u001b[0m\u001b[0m_compiled_call_impl\u001b[0m\u001b[0;34m(\u001b[0m\u001b[0;34m*\u001b[0m\u001b[0margs\u001b[0m\u001b[0;34m,\u001b[0m \u001b[0;34m**\u001b[0m\u001b[0mkwargs\u001b[0m\u001b[0;34m)\u001b[0m  \u001b[0;31m# type: ignore[misc]\u001b[0m\u001b[0;34m\u001b[0m\u001b[0;34m\u001b[0m\u001b[0m\n\u001b[1;32m   1735\u001b[0m         \u001b[0;32melse\u001b[0m\u001b[0;34m:\u001b[0m\u001b[0;34m\u001b[0m\u001b[0;34m\u001b[0m\u001b[0m\n\u001b[0;32m-> 1736\u001b[0;31m             \u001b[0;32mreturn\u001b[0m \u001b[0mself\u001b[0m\u001b[0;34m.\u001b[0m\u001b[0m_call_impl\u001b[0m\u001b[0;34m(\u001b[0m\u001b[0;34m*\u001b[0m\u001b[0margs\u001b[0m\u001b[0;34m,\u001b[0m \u001b[0;34m**\u001b[0m\u001b[0mkwargs\u001b[0m\u001b[0;34m)\u001b[0m\u001b[0;34m\u001b[0m\u001b[0;34m\u001b[0m\u001b[0m\n\u001b[0m\u001b[1;32m   1737\u001b[0m \u001b[0;34m\u001b[0m\u001b[0m\n\u001b[1;32m   1738\u001b[0m     \u001b[0;31m# torchrec tests the code consistency with the following code\u001b[0m\u001b[0;34m\u001b[0m\u001b[0;34m\u001b[0m\u001b[0m\n",
            "\u001b[0;32m/usr/local/lib/python3.10/dist-packages/torch/nn/modules/module.py\u001b[0m in \u001b[0;36m_call_impl\u001b[0;34m(self, *args, **kwargs)\u001b[0m\n\u001b[1;32m   1745\u001b[0m                 \u001b[0;32mor\u001b[0m \u001b[0m_global_backward_pre_hooks\u001b[0m \u001b[0;32mor\u001b[0m \u001b[0m_global_backward_hooks\u001b[0m\u001b[0;34m\u001b[0m\u001b[0;34m\u001b[0m\u001b[0m\n\u001b[1;32m   1746\u001b[0m                 or _global_forward_hooks or _global_forward_pre_hooks):\n\u001b[0;32m-> 1747\u001b[0;31m             \u001b[0;32mreturn\u001b[0m \u001b[0mforward_call\u001b[0m\u001b[0;34m(\u001b[0m\u001b[0;34m*\u001b[0m\u001b[0margs\u001b[0m\u001b[0;34m,\u001b[0m \u001b[0;34m**\u001b[0m\u001b[0mkwargs\u001b[0m\u001b[0;34m)\u001b[0m\u001b[0;34m\u001b[0m\u001b[0;34m\u001b[0m\u001b[0m\n\u001b[0m\u001b[1;32m   1748\u001b[0m \u001b[0;34m\u001b[0m\u001b[0m\n\u001b[1;32m   1749\u001b[0m         \u001b[0mresult\u001b[0m \u001b[0;34m=\u001b[0m \u001b[0;32mNone\u001b[0m\u001b[0;34m\u001b[0m\u001b[0;34m\u001b[0m\u001b[0m\n",
            "\u001b[0;32m/usr/local/lib/python3.10/dist-packages/torch/nn/modules/linear.py\u001b[0m in \u001b[0;36mforward\u001b[0;34m(self, input)\u001b[0m\n\u001b[1;32m    123\u001b[0m \u001b[0;34m\u001b[0m\u001b[0m\n\u001b[1;32m    124\u001b[0m     \u001b[0;32mdef\u001b[0m \u001b[0mforward\u001b[0m\u001b[0;34m(\u001b[0m\u001b[0mself\u001b[0m\u001b[0;34m,\u001b[0m \u001b[0minput\u001b[0m\u001b[0;34m:\u001b[0m \u001b[0mTensor\u001b[0m\u001b[0;34m)\u001b[0m \u001b[0;34m->\u001b[0m \u001b[0mTensor\u001b[0m\u001b[0;34m:\u001b[0m\u001b[0;34m\u001b[0m\u001b[0;34m\u001b[0m\u001b[0m\n\u001b[0;32m--> 125\u001b[0;31m         \u001b[0;32mreturn\u001b[0m \u001b[0mF\u001b[0m\u001b[0;34m.\u001b[0m\u001b[0mlinear\u001b[0m\u001b[0;34m(\u001b[0m\u001b[0minput\u001b[0m\u001b[0;34m,\u001b[0m \u001b[0mself\u001b[0m\u001b[0;34m.\u001b[0m\u001b[0mweight\u001b[0m\u001b[0;34m,\u001b[0m \u001b[0mself\u001b[0m\u001b[0;34m.\u001b[0m\u001b[0mbias\u001b[0m\u001b[0;34m)\u001b[0m\u001b[0;34m\u001b[0m\u001b[0;34m\u001b[0m\u001b[0m\n\u001b[0m\u001b[1;32m    126\u001b[0m \u001b[0;34m\u001b[0m\u001b[0m\n\u001b[1;32m    127\u001b[0m     \u001b[0;32mdef\u001b[0m \u001b[0mextra_repr\u001b[0m\u001b[0;34m(\u001b[0m\u001b[0mself\u001b[0m\u001b[0;34m)\u001b[0m \u001b[0;34m->\u001b[0m \u001b[0mstr\u001b[0m\u001b[0;34m:\u001b[0m\u001b[0;34m\u001b[0m\u001b[0;34m\u001b[0m\u001b[0m\n",
            "\u001b[0;31mRuntimeError\u001b[0m: mat1 and mat2 shapes cannot be multiplied (3584x28 and 784x10)"
          ]
        }
      ],
      "source": [
        "'''\n",
        "for images,labels in train_loader:\n",
        "  print(labels)\n",
        "  print(images.shape)\n",
        "  outputs =model(images)\n",
        "  print(outputs)\n",
        "  break\n",
        "  '''\n"
      ]
    },
    {
      "cell_type": "markdown",
      "metadata": {
        "id": "NgqaBiZWgYzJ"
      },
      "source": [
        "The code above leads to an error because our input data does not have the right shape . Our images are of the shape 1x28x28, but we need them to be vector of size 784 , i.e we need to flatten them. We'll use the .reshape method of a tensor , which will allow us to efficiently 'view' each image as a flat vector without relly creating a copy of the underlying data. To include this additional functionality within our model, we need to define a custom model by extending the nn.Module class from PyTorch"
      ]
    },
    {
      "cell_type": "markdown",
      "metadata": {
        "id": "2B6E6ex8hV79"
      },
      "source": [
        "A Class in python provides a bluprint for creating objects.\n"
      ]
    },
    {
      "cell_type": "code",
      "execution_count": null,
      "metadata": {
        "id": "QR6Sa_xJgWnI"
      },
      "outputs": [],
      "source": [
        "class MnistModel(nn.Module):\n",
        "  def __init__(self):\n",
        "    super().__init__()\n",
        "    self.linear=nn.Linear(input_size,num_classes)\n",
        "  def forward(self,xb):\n",
        "    xb=xb.reshape(-1,784)\n",
        "    out=self.linear(xb)\n",
        "    return out\n",
        "model=MnistModel()"
      ]
    },
    {
      "cell_type": "markdown",
      "metadata": {
        "id": "uyJ1SF8Lm0gJ"
      },
      "source": [
        "Inside the __init__ constructor method, we instantiate the weights and biases using nn.Linear . And inside the forward method, which is invoked when we pass a batch of inputs to the model, we flatten the input tensor and pass it into self.linear\n",
        "\n",
        "xb.reshape(-1,28*28) indicates to PyTorch that we want a view of the xb tensor with two dimensions. The length along the 2nd dimension is 28*28 (i.e 784) . One argument to .reshape can be set to -2 (in this case, the first dimension) to let PyTorch figure it out automatically based on the shape of the original tensor.\n",
        "\n",
        "Note that the model no longer has .weight and .bias attributes(as they are now inside the .linear attribute),but it does have a .parameters method that returns a list containing the weights and bias."
      ]
    },
    {
      "cell_type": "code",
      "execution_count": null,
      "metadata": {
        "colab": {
          "base_uri": "https://localhost:8080/"
        },
        "id": "ZR1nUk8PodO_",
        "outputId": "9cc65c88-7a47-4f51-806d-b8c7bbf5510f"
      },
      "outputs": [
        {
          "data": {
            "text/plain": [
              "Linear(in_features=784, out_features=10, bias=True)"
            ]
          },
          "execution_count": 22,
          "metadata": {},
          "output_type": "execute_result"
        }
      ],
      "source": [
        "model.linear"
      ]
    },
    {
      "cell_type": "code",
      "execution_count": null,
      "metadata": {
        "colab": {
          "base_uri": "https://localhost:8080/"
        },
        "id": "6N9GfkXdoiM_",
        "outputId": "d2020748-7398-4002-a44e-5b8895e46153"
      },
      "outputs": [
        {
          "name": "stdout",
          "output_type": "stream",
          "text": [
            "torch.Size([10, 784]) torch.Size([10])\n"
          ]
        },
        {
          "data": {
            "text/plain": [
              "[Parameter containing:\n",
              " tensor([[-0.0296,  0.0186,  0.0208,  ..., -0.0247,  0.0342, -0.0286],\n",
              "         [ 0.0048, -0.0166, -0.0319,  ...,  0.0236, -0.0349,  0.0264],\n",
              "         [-0.0302,  0.0256, -0.0178,  ..., -0.0122, -0.0217, -0.0160],\n",
              "         ...,\n",
              "         [ 0.0028,  0.0239,  0.0269,  ...,  0.0267,  0.0289,  0.0225],\n",
              "         [-0.0328, -0.0013, -0.0301,  ...,  0.0023, -0.0103, -0.0284],\n",
              "         [-0.0218,  0.0331, -0.0282,  ...,  0.0242,  0.0041, -0.0194]],\n",
              "        requires_grad=True),\n",
              " Parameter containing:\n",
              " tensor([-0.0161, -0.0100,  0.0004,  0.0293,  0.0240, -0.0299,  0.0240, -0.0016,\n",
              "         -0.0216, -0.0352], requires_grad=True)]"
            ]
          },
          "execution_count": 23,
          "metadata": {},
          "output_type": "execute_result"
        }
      ],
      "source": [
        "print(model.linear.weight.shape,model.linear.bias.shape)\n",
        "list(model.parameters())"
      ]
    },
    {
      "cell_type": "markdown",
      "metadata": {
        "id": "GrEwtDIKo13-"
      },
      "source": [
        "we can use out new custom model in the same way as before."
      ]
    },
    {
      "cell_type": "code",
      "execution_count": null,
      "metadata": {
        "colab": {
          "base_uri": "https://localhost:8080/"
        },
        "id": "5uvYFQaUoveE",
        "outputId": "9d36243e-f730-4f92-a4b8-e64c17a7a74d"
      },
      "outputs": [
        {
          "name": "stdout",
          "output_type": "stream",
          "text": [
            "Outputs.shape:   torch.Size([128, 10])\n",
            "Sample outptus  :\n",
            " tensor([[ 0.0391,  0.2454,  0.1427, -0.2431,  0.2186, -0.0317,  0.2593, -0.1148,\n",
            "         -0.1914,  0.0758],\n",
            "        [ 0.1361,  0.4314, -0.2849, -0.3485, -0.0291, -0.0748, -0.1340,  0.0658,\n",
            "         -0.0430,  0.3409]])\n"
          ]
        }
      ],
      "source": [
        "for images,labels in train_loader:\n",
        "  outputs=model(images)\n",
        "  break\n",
        "print(\"Outputs.shape:  \",outputs.shape)\n",
        "print(\"Sample outptus  :\\n\",outputs[:2].data)"
      ]
    },
    {
      "cell_type": "markdown",
      "metadata": {
        "id": "-w8A8nzhp-4Z"
      },
      "source": [
        "For each of the 100 input images we get 10 outputs ,one  for each class. As discussed earlier, we'd like these outputs to represets probabilities. Each output row's elements must lie between 0 to 1 and add up to 1 , which is not the case.\n",
        "\n",
        "To convert the output into probabilities ,we use the softmax function."
      ]
    },
    {
      "cell_type": "code",
      "execution_count": null,
      "metadata": {
        "id": "FoqXBP5upYQE"
      },
      "outputs": [],
      "source": [
        " import torch.nn.functional as F"
      ]
    },
    {
      "cell_type": "code",
      "execution_count": null,
      "metadata": {
        "colab": {
          "base_uri": "https://localhost:8080/"
        },
        "id": "y7QYuuGXrkL8",
        "outputId": "aa2b1269-c7f6-4c34-e36b-33d0dbc0c782"
      },
      "outputs": [
        {
          "name": "stdout",
          "output_type": "stream",
          "text": [
            "Sample probabilities :\n",
            " tensor([[0.0985, 0.1210, 0.1092, 0.0743, 0.1178, 0.0917, 0.1227, 0.0844, 0.0782,\n",
            "         0.1021],\n",
            "        [0.1107, 0.1488, 0.0727, 0.0682, 0.0939, 0.0897, 0.0845, 0.1032, 0.0926,\n",
            "         0.1359]])\n",
            "Sum : 0.9999999403953552\n"
          ]
        }
      ],
      "source": [
        "# Apply softmax for each output row\n",
        "\n",
        "probs=F.softmax(outputs, dim=1)\n",
        "\n",
        "# sample probabilities\n",
        "print('Sample probabilities :\\n',probs[:2].data)\n",
        "\n",
        "# Add up the probabilities of an output row\n",
        "\n",
        "print(\"Sum :\",torch.sum(probs[0]).item())"
      ]
    },
    {
      "cell_type": "markdown",
      "metadata": {
        "id": "c6gF1YW6snxe"
      },
      "source": [
        "Finally we can determine the predicted label for each image by simply choosing the index of the element with the highest probability in each output row. We can do this using torch.max, which returns  each row's largest element and the corresponding index"
      ]
    },
    {
      "cell_type": "code",
      "execution_count": null,
      "metadata": {
        "colab": {
          "base_uri": "https://localhost:8080/"
        },
        "id": "OfYElEUvsKH_",
        "outputId": "8f1698df-2722-40ce-871b-b0fa3ba28286"
      },
      "outputs": [
        {
          "name": "stdout",
          "output_type": "stream",
          "text": [
            "tensor([6, 1, 9, 1, 9, 7, 9, 9, 4, 0, 0, 0, 0, 9, 1, 5, 1, 1, 9, 1, 9, 1, 1, 9,\n",
            "        0, 1, 9, 8, 5, 9, 1, 9, 0, 9, 0, 9, 1, 9, 6, 1, 6, 1, 0, 1, 1, 6, 8, 7,\n",
            "        1, 0, 9, 1, 1, 9, 0, 0, 6, 9, 9, 0, 9, 1, 0, 1, 0, 0, 7, 9, 9, 1, 1, 6,\n",
            "        6, 6, 0, 1, 1, 9, 7, 9, 1, 9, 0, 1, 9, 1, 9, 8, 4, 4, 4, 9, 9, 1, 1, 6,\n",
            "        0, 1, 1, 0, 0, 9, 1, 9, 9, 6, 0, 0, 0, 2, 8, 9, 1, 0, 0, 1, 0, 5, 0, 1,\n",
            "        4, 9, 1, 6, 9, 1, 0, 0])\n",
            "tensor([0.1227, 0.1488, 0.1243, 0.1227, 0.1144, 0.1221, 0.1381, 0.1296, 0.1271,\n",
            "        0.1234, 0.1389, 0.1441, 0.1215, 0.1321, 0.1400, 0.1182, 0.1456, 0.1275,\n",
            "        0.1203, 0.1381, 0.1320, 0.1540, 0.1361, 0.1272, 0.1378, 0.1341, 0.1255,\n",
            "        0.1284, 0.1296, 0.1702, 0.1515, 0.1560, 0.1634, 0.1408, 0.1524, 0.1466,\n",
            "        0.1268, 0.1245, 0.1126, 0.1225, 0.1309, 0.1255, 0.1438, 0.1299, 0.1199,\n",
            "        0.1628, 0.1265, 0.1206, 0.1308, 0.1216, 0.1654, 0.1182, 0.1426, 0.1331,\n",
            "        0.1383, 0.1242, 0.1074, 0.1398, 0.1387, 0.1675, 0.1200, 0.1215, 0.1687,\n",
            "        0.1442, 0.1383, 0.1480, 0.1234, 0.1219, 0.1546, 0.1211, 0.1529, 0.1193,\n",
            "        0.1374, 0.1265, 0.1224, 0.1391, 0.1376, 0.1333, 0.1212, 0.1234, 0.1210,\n",
            "        0.1242, 0.1309, 0.1528, 0.1355, 0.1284, 0.1269, 0.1207, 0.1181, 0.1378,\n",
            "        0.1436, 0.1211, 0.1614, 0.1408, 0.1293, 0.1122, 0.1122, 0.1463, 0.1263,\n",
            "        0.1158, 0.1369, 0.1201, 0.1392, 0.1407, 0.1578, 0.1245, 0.1466, 0.1176,\n",
            "        0.1533, 0.1157, 0.1474, 0.1086, 0.1136, 0.1400, 0.1276, 0.1393, 0.1124,\n",
            "        0.1249, 0.1446, 0.1431, 0.1224, 0.1326, 0.1095, 0.1243, 0.1210, 0.1350,\n",
            "        0.1324, 0.1406], grad_fn=<MaxBackward0>)\n"
          ]
        }
      ],
      "source": [
        "max_probs,preds=torch.max(probs,dim=1)\n",
        "print(preds)\n",
        "print(max_probs)"
      ]
    },
    {
      "cell_type": "code",
      "execution_count": null,
      "metadata": {
        "colab": {
          "base_uri": "https://localhost:8080/"
        },
        "id": "FovXtbAHtaIQ",
        "outputId": "c515064c-744b-47fd-c425-f6c915ce1e3d"
      },
      "outputs": [
        {
          "data": {
            "text/plain": [
              "tensor([6, 0, 1, 9, 5, 7, 2, 5, 6, 5, 3, 9, 5, 5, 6, 1, 5, 6, 3, 6, 2, 7, 4, 2,\n",
              "        8, 6, 8, 7, 8, 5, 6, 6, 3, 8, 6, 2, 8, 5, 7, 6, 3, 2, 2, 2, 1, 5, 3, 9,\n",
              "        6, 9, 0, 1, 4, 6, 5, 8, 4, 7, 2, 8, 1, 9, 0, 6, 8, 8, 5, 9, 5, 4, 8, 4,\n",
              "        5, 5, 9, 4, 6, 9, 4, 1, 5, 9, 5, 9, 9, 6, 5, 7, 4, 2, 2, 5, 0, 7, 6, 5,\n",
              "        1, 6, 8, 7, 2, 7, 0, 8, 0, 5, 3, 5, 6, 1, 7, 1, 9, 9, 9, 3, 4, 0, 2, 8,\n",
              "        3, 4, 1, 7, 9, 6, 2, 6])"
            ]
          },
          "execution_count": 29,
          "metadata": {},
          "output_type": "execute_result"
        }
      ],
      "source": [
        "labels"
      ]
    },
    {
      "cell_type": "markdown",
      "metadata": {
        "id": "8wmE-7EkRV0_"
      },
      "source": [
        "Most of the predicted labels are different from the actual labels. That's because we have started with randomly initialized weights and biases. We need to trian the model, i.e adjust the weights using gradient descent to make better predictions"
      ]
    },
    {
      "cell_type": "markdown",
      "metadata": {
        "id": "fGhJfzl2RumE"
      },
      "source": [
        "# Evaluation Metric and Loss Function\n"
      ]
    },
    {
      "cell_type": "markdown",
      "metadata": {
        "id": "9Qh7YIKRSFJC"
      },
      "source": [
        "Just as with linear regresion we need a way to evaluate how well our model is performing . A natural way do this would be to find the percentage of labels that were predicted correctly, i.e the accuracy of the prediction"
      ]
    },
    {
      "cell_type": "code",
      "execution_count": null,
      "metadata": {
        "colab": {
          "base_uri": "https://localhost:8080/"
        },
        "id": "aw-hbn6wtqrX",
        "outputId": "cc803976-115d-4760-d03a-d5159049295f"
      },
      "outputs": [
        {
          "data": {
            "text/plain": [
              "tensor([[ 0.0391,  0.2454,  0.1427,  ..., -0.1148, -0.1914,  0.0758],\n",
              "        [ 0.1361,  0.4314, -0.2849,  ...,  0.0658, -0.0430,  0.3409],\n",
              "        [ 0.1289, -0.0224,  0.0959,  ..., -0.1290, -0.3953,  0.2174],\n",
              "        ...,\n",
              "        [ 0.2431,  0.3412, -0.1385,  ..., -0.0180, -0.0654,  0.1055],\n",
              "        [ 0.2521,  0.0573,  0.1135,  ..., -0.1925, -0.2516,  0.0119],\n",
              "        [ 0.3744,  0.0884, -0.0300,  ...,  0.0010, -0.1099,  0.0587]],\n",
              "       grad_fn=<AddmmBackward0>)"
            ]
          },
          "execution_count": 30,
          "metadata": {},
          "output_type": "execute_result"
        }
      ],
      "source": [
        "outputs"
      ]
    },
    {
      "cell_type": "code",
      "execution_count": null,
      "metadata": {
        "colab": {
          "base_uri": "https://localhost:8080/"
        },
        "id": "cS124euaS5Ye",
        "outputId": "792eefed-b6d7-426e-9233-f308d383e2c7"
      },
      "outputs": [
        {
          "data": {
            "text/plain": [
              "tensor([[ 0.0391,  0.2454,  0.1427, -0.2431,  0.2186, -0.0317,  0.2593, -0.1148,\n",
              "         -0.1914,  0.0758],\n",
              "        [ 0.1361,  0.4314, -0.2849, -0.3485, -0.0291, -0.0748, -0.1340,  0.0658,\n",
              "         -0.0430,  0.3409]], grad_fn=<SliceBackward0>)"
            ]
          },
          "execution_count": 31,
          "metadata": {},
          "output_type": "execute_result"
        }
      ],
      "source": [
        "outputs[:2]"
      ]
    },
    {
      "cell_type": "code",
      "execution_count": null,
      "metadata": {
        "colab": {
          "base_uri": "https://localhost:8080/"
        },
        "id": "i4zZEnk_S7up",
        "outputId": "98a4832b-3f4e-4d47-db79-b823d239cba6"
      },
      "outputs": [
        {
          "data": {
            "text/plain": [
              "tensor([ True, False, False, False, False,  True, False, False, False, False,\n",
              "        False, False, False, False, False, False, False, False, False, False,\n",
              "        False, False, False, False, False, False, False, False, False, False,\n",
              "        False, False, False, False, False, False, False, False, False, False,\n",
              "        False, False, False, False,  True, False, False, False, False, False,\n",
              "        False,  True, False, False, False, False, False, False, False, False,\n",
              "        False, False,  True, False, False, False, False,  True, False, False,\n",
              "        False, False, False, False, False, False, False,  True, False, False,\n",
              "        False,  True, False, False,  True, False, False, False,  True, False,\n",
              "        False, False, False, False, False, False, False, False, False, False,\n",
              "        False, False, False, False, False, False, False, False, False, False,\n",
              "        False, False, False, False, False, False, False, False, False, False,\n",
              "        False, False,  True, False,  True, False, False, False])"
            ]
          },
          "execution_count": 32,
          "metadata": {},
          "output_type": "execute_result"
        }
      ],
      "source": [
        "preds==labels"
      ]
    },
    {
      "cell_type": "code",
      "execution_count": null,
      "metadata": {
        "colab": {
          "base_uri": "https://localhost:8080/"
        },
        "id": "X7In22IuTIJj",
        "outputId": "c3b3a08f-fb9d-4f2d-a2b6-9ab1520635b8"
      },
      "outputs": [
        {
          "data": {
            "text/plain": [
              "tensor(12)"
            ]
          },
          "execution_count": 33,
          "metadata": {},
          "output_type": "execute_result"
        }
      ],
      "source": [
        "torch.sum(preds== labels)"
      ]
    },
    {
      "cell_type": "code",
      "execution_count": null,
      "metadata": {
        "colab": {
          "base_uri": "https://localhost:8080/"
        },
        "id": "PQid5nZ3UiQk",
        "outputId": "1d18be30-ae75-4d47-def0-c7e5a50a1a18"
      },
      "outputs": [
        {
          "data": {
            "text/plain": [
              "12"
            ]
          },
          "execution_count": 34,
          "metadata": {},
          "output_type": "execute_result"
        }
      ],
      "source": [
        "torch.sum(preds == labels).item()"
      ]
    },
    {
      "cell_type": "code",
      "execution_count": null,
      "metadata": {
        "colab": {
          "base_uri": "https://localhost:8080/"
        },
        "id": "MwrLWYq1Urvn",
        "outputId": "7c6308a5-15df-4bef-8ce5-c1b4b6e677c7"
      },
      "outputs": [
        {
          "data": {
            "text/plain": [
              "0.09375"
            ]
          },
          "execution_count": 35,
          "metadata": {},
          "output_type": "execute_result"
        }
      ],
      "source": [
        "torch.sum(preds == labels).item()/len(preds)"
      ]
    },
    {
      "cell_type": "code",
      "execution_count": null,
      "metadata": {
        "colab": {
          "base_uri": "https://localhost:8080/"
        },
        "id": "Nr0NggfIVMmF",
        "outputId": "ae8b908d-fa77-44ce-c237-1ec61c13471e"
      },
      "outputs": [
        {
          "data": {
            "text/plain": [
              "tensor(0.0938)"
            ]
          },
          "execution_count": 36,
          "metadata": {},
          "output_type": "execute_result"
        }
      ],
      "source": [
        "torch.tensor(torch.sum(preds == labels).item()/len(preds))"
      ]
    },
    {
      "cell_type": "code",
      "execution_count": null,
      "metadata": {
        "id": "OqbkNS5xTNUT"
      },
      "outputs": [],
      "source": [
        "def accuracy(outputs, labels):\n",
        "  _,preds=torch.max(outputs,dim=1)\n",
        "  return torch.tensor(torch.sum(preds == labels).item()/len(preds))"
      ]
    },
    {
      "cell_type": "markdown",
      "metadata": {
        "id": "0aMp8kQ5UI2m"
      },
      "source": []
    },
    {
      "cell_type": "code",
      "execution_count": null,
      "metadata": {
        "colab": {
          "base_uri": "https://localhost:8080/"
        },
        "id": "qSD7uVHLT5JY",
        "outputId": "a86cadc7-9cbb-4f8d-d9df-e530d51d0044"
      },
      "outputs": [
        {
          "data": {
            "text/plain": [
              "tensor(0.0938)"
            ]
          },
          "execution_count": 38,
          "metadata": {},
          "output_type": "execute_result"
        }
      ],
      "source": [
        "accuracy(outputs,labels)"
      ]
    },
    {
      "cell_type": "code",
      "execution_count": null,
      "metadata": {
        "colab": {
          "base_uri": "https://localhost:8080/"
        },
        "id": "CsAVaab9UTZM",
        "outputId": "6f35cb5b-8a66-4418-9853-77a2c0f0ef68"
      },
      "outputs": [
        {
          "data": {
            "text/plain": [
              "tensor([[0.0985, 0.1210, 0.1092,  ..., 0.0844, 0.0782, 0.1021],\n",
              "        [0.1107, 0.1488, 0.0727,  ..., 0.1032, 0.0926, 0.1359],\n",
              "        [0.1138, 0.0978, 0.1101,  ..., 0.0879, 0.0674, 0.1243],\n",
              "        ...,\n",
              "        [0.1224, 0.1350, 0.0836,  ..., 0.0943, 0.0899, 0.1066],\n",
              "        [0.1324, 0.1090, 0.1153,  ..., 0.0849, 0.0800, 0.1041],\n",
              "        [0.1406, 0.1056, 0.0939,  ..., 0.0968, 0.0866, 0.1026]],\n",
              "       grad_fn=<SoftmaxBackward0>)"
            ]
          },
          "execution_count": 39,
          "metadata": {},
          "output_type": "execute_result"
        }
      ],
      "source": [
        "probs"
      ]
    },
    {
      "cell_type": "markdown",
      "metadata": {
        "id": "C0F4W2RmW_GN"
      },
      "source": [
        "Unlike accuracy, cross entropy is a continuous and differnetiable function. It is also provides useful feedback for incremental improvements in the model(a slightly probability for the correct label leads to a lower loss). These two factors make cross- entropy a better choice for the loss function.\n",
        "\n",
        "moreover is also performs softmax internally, so we can directly pass in the model's output without converting them into probabilities"
      ]
    },
    {
      "cell_type": "code",
      "execution_count": null,
      "metadata": {
        "id": "IsNTSBAaWQJ6"
      },
      "outputs": [],
      "source": [
        "loss_fn=F.cross_entropy"
      ]
    },
    {
      "cell_type": "code",
      "execution_count": null,
      "metadata": {
        "colab": {
          "base_uri": "https://localhost:8080/"
        },
        "id": "gih9JOJyX6KW",
        "outputId": "7ef9da30-0d2d-49f8-fcc3-a2c50ac28a7d"
      },
      "outputs": [
        {
          "name": "stdout",
          "output_type": "stream",
          "text": [
            "tensor(2.3178, grad_fn=<NllLossBackward0>)\n"
          ]
        }
      ],
      "source": [
        "#Loss for current batch of data\n",
        "loss=loss_fn(outputs,labels)\n",
        "print(loss)"
      ]
    },
    {
      "cell_type": "markdown",
      "metadata": {
        "id": "j-XCApH0ZFEJ"
      },
      "source": [
        "we know that cross_entropy is the negative logarithm of the predicted probability of the correct label averaged over all training samples. therefore ,one way to interpret the resulting number e.g 2.23 is look at e^-2.23 which is around 0.1 as the predicted probability of the correct label, on average. the lower the loss the better the model"
      ]
    },
    {
      "cell_type": "markdown",
      "metadata": {
        "id": "dj3JmmssZq41"
      },
      "source": [
        "# Training the model\n"
      ]
    },
    {
      "cell_type": "markdown",
      "metadata": {
        "id": "_9ERvhP8jyBW"
      },
      "source": [
        "Pseudocode"
      ]
    },
    {
      "cell_type": "code",
      "execution_count": null,
      "metadata": {
        "colab": {
          "base_uri": "https://localhost:8080/",
          "height": 122
        },
        "id": "xOS6R7MBYFFk",
        "outputId": "fe98e6cf-270f-4268-a2d6-57c84aca744a"
      },
      "outputs": [
        {
          "data": {
            "application/vnd.google.colaboratory.intrinsic+json": {
              "type": "string"
            },
            "text/plain": [
              "' pseudocode\\nfor epoch in range(num_epochs):\\n  #Training phase\\n\\n  for batch in train_loader:\\n    #generate predictions\\n    #calculate loss\\n    #compute gradients\\n    #update weights\\n    #reset gradients\\n\\n  #Validation Phase\\n  for  batch in val_loader:\\n    pass\\n    #generate predicitons\\n    #calculate loss\\n    #calculate metrics(accuracy etc.)\\n\\n#Calculate average validation loss & metrics\\n\\n#Log epoch, loss & metric for inspection\\n'"
            ]
          },
          "execution_count": 44,
          "metadata": {},
          "output_type": "execute_result"
        }
      ],
      "source": [
        "''' pseudocode\n",
        "for epoch in range(num_epochs):\n",
        "  #Training phase\n",
        "\n",
        "  for batch in train_loader:\n",
        "    #generate predictions\n",
        "    #calculate loss\n",
        "    #compute gradients\n",
        "    #update weights\n",
        "    #reset gradients\n",
        "\n",
        "  #Validation Phase\n",
        "  for  batch in val_loader:\n",
        "    pass\n",
        "    #generate predicitons\n",
        "    #calculate loss\n",
        "    #calculate metrics(accuracy etc.)\n",
        "\n",
        "#Calculate average validation loss & metrics\n",
        "\n",
        "#Log epoch, loss & metric for inspection\n",
        "'''"
      ]
    },
    {
      "cell_type": "markdown",
      "metadata": {
        "id": "8HeaPZAPcARE"
      },
      "source": [
        "we'll include the problem-independent parts within a function called for which will be used to train the model . The problem_specific parts will be implemented by adding new methods to the nn.Module class"
      ]
    },
    {
      "cell_type": "code",
      "execution_count": null,
      "metadata": {
        "id": "FYHqcUOZaVe2"
      },
      "outputs": [],
      "source": [
        "def fit(epochs,lr,model,train_loader,val_loader,opt_func=torch.optim.SGD):\n",
        "  optimizer=opt_func(model.parameters(),lr)\n",
        "  history=[] #for recording epoch-wise results\n",
        "\n",
        "  for epoch in range(epochs):\n",
        "\n",
        "    #Training phase\n",
        "    for batch in train_loader:\n",
        "      loss=model.training_step(batch)\n",
        "      loss.backward()\n",
        "      optimizer.step()\n",
        "      optimizer.zero_grad()\n",
        "\n",
        "    #Validation Phase\n",
        "    result=evaluate(model,val_loader)\n",
        "    model.epoch_end(epoch,result)\n",
        "    history.append(result)\n",
        "  return history\n"
      ]
    },
    {
      "cell_type": "markdown",
      "metadata": {
        "id": "bJhZYc_TfA4R"
      },
      "source": [
        "The fir function records the validation loss and metric from each epoch. It returns a history of the training, useful for debugging & visualization.\n",
        "\n",
        "Configuration like batch size, learning rate ,etc (called hyperparameters),need to picked in advanced while training machien learning models. Choosing the right hyperparameters is critical for training a reasonably accurate model within a reasonable amount of time. It is an active are of research and experimentation in machine learning .\n",
        "\n",
        "evaluate function used in the calidation pahse of fit"
      ]
    },
    {
      "cell_type": "code",
      "execution_count": null,
      "metadata": {
        "id": "BvWtVXxneiiN"
      },
      "outputs": [],
      "source": [
        "def evaluate(model,val_loader):\n",
        "  outputs=[model.validation_step(batch) for batch in val_loader]\n",
        "  return model.validation_epoch_end(outputs)"
      ]
    },
    {
      "cell_type": "markdown",
      "metadata": {
        "id": "_ogJc-PFgV9g"
      },
      "source": [
        "Finally redefine the MnistModel class to include additional methods training_step,validation_step,validation_epoch_end and epoch_end used by fit and evaluate"
      ]
    },
    {
      "cell_type": "code",
      "execution_count": null,
      "metadata": {
        "id": "2vOUhqiKhUiA"
      },
      "outputs": [],
      "source": [
        "class MnistModel(nn.Module):\n",
        "  def __init__(self):\n",
        "    super().__init__()\n",
        "    self.linear=nn.Linear(input_size,num_classes)\n",
        "\n",
        "  def forward(self,xb):\n",
        "    xb=xb.reshape(-1,784)\n",
        "    out =self.linear(xb)\n",
        "    return out\n",
        "\n",
        "  def training_step(self,batch):\n",
        "    images,labels=batch\n",
        "    out=self(images)   #generate predictions\n",
        "    loss=F.cross_entropy(out,labels)#Calculate loss\n",
        "    return loss\n",
        "\n",
        "  def validation_step(self,batch):\n",
        "    images,labels=batch\n",
        "    out=self(images) #Generate predictions\n",
        "    loss=F.cross_entropy(out,labels) #Calculate loss\n",
        "    acc=accuracy(out,labels) #Calculate accuracy\n",
        "    return {'val_loss':loss,'val_acc':acc}\n",
        "\n",
        "  def validation_epoch_end(self,outputs):\n",
        "    batch_losses=[x['val_loss'] for x in outputs]\n",
        "    epoch_loss=torch.stack(batch_losses).mean() #combine losses\n",
        "    batch_accs=[x['val_acc'] for x in outputs]\n",
        "    epoch_acc=torch.stack(batch_accs).mean() # Combine accuracies\n",
        "    return {'val_loss':epoch_loss.item(),'val_acc':epoch_acc.item()}\n",
        "\n",
        "  def epoch_end(self,epoch,result):\n",
        "    print(\"Epoch[{}],val_loss: {:.4f},val_acc: {:.4f}\".format(epoch,result['val_loss'],result['val_acc']))\n",
        "model=MnistModel()\n",
        "\n",
        "\n",
        "\n",
        "\n",
        "\n"
      ]
    },
    {
      "cell_type": "code",
      "execution_count": null,
      "metadata": {
        "colab": {
          "base_uri": "https://localhost:8080/"
        },
        "id": "KiGB-aZTmQrN",
        "outputId": "8207cd80-40a9-4d58-f671-a058cc26e827"
      },
      "outputs": [
        {
          "data": {
            "text/plain": [
              "{'val_loss': 2.331899881362915, 'val_acc': 0.0670490488409996}"
            ]
          },
          "execution_count": 48,
          "metadata": {},
          "output_type": "execute_result"
        }
      ],
      "source": [
        "result0=evaluate(model,val_loader)\n",
        "result0"
      ]
    },
    {
      "cell_type": "markdown",
      "metadata": {
        "id": "c71Xv_bzpln6"
      },
      "source": [
        "Train the model. for 5 epochs and loot at the results"
      ]
    },
    {
      "cell_type": "code",
      "execution_count": null,
      "metadata": {
        "colab": {
          "background_save": true,
          "base_uri": "https://localhost:8080/"
        },
        "id": "PFfyRqMFmXpz",
        "outputId": "4fa203c6-e4c1-411c-daba-83f59f73949e"
      },
      "outputs": [
        {
          "name": "stdout",
          "output_type": "stream",
          "text": [
            "Epoch[0],val_loss: 1.9583,val_acc: 0.6051\n",
            "Epoch[1],val_loss: 1.6874,val_acc: 0.7307\n",
            "Epoch[2],val_loss: 1.4856,val_acc: 0.7715\n",
            "Epoch[3],val_loss: 1.3331,val_acc: 0.7896\n",
            "Epoch[4],val_loss: 1.2157,val_acc: 0.8008\n"
          ]
        }
      ],
      "source": [
        "history=fit(5,0.001,model,train_loader,val_loader)"
      ]
    },
    {
      "cell_type": "code",
      "execution_count": null,
      "metadata": {
        "id": "Lko_krB3p1EP"
      },
      "outputs": [],
      "source": [
        "history2=fit(5,0.001,model,train_loader,val_loader)"
      ]
    },
    {
      "cell_type": "code",
      "execution_count": null,
      "metadata": {
        "id": "k78VYVG68UqE"
      },
      "outputs": [],
      "source": [
        "history3=fit(5,0.001,model,train_loader,val_loader)"
      ]
    },
    {
      "cell_type": "code",
      "execution_count": null,
      "metadata": {
        "id": "lVTzoo2_91cN"
      },
      "outputs": [],
      "source": [
        "history4=fit(5,0.001,model,train_loader,val_loader)"
      ]
    },
    {
      "cell_type": "markdown",
      "metadata": {
        "id": "bqMgMb3i-YHf"
      },
      "source": [
        "While the ccuracy continue to increase as we train for more epochs, the improvements get smaller with every epoch. Let's visualize this using a line graph."
      ]
    },
    {
      "cell_type": "code",
      "execution_count": null,
      "metadata": {
        "id": "wCOwqyXX-ER9"
      },
      "outputs": [],
      "source": [
        "history=[result0]+history+history2+history3+history4\n",
        "accuracies=[result['val_acc'] for result in history]\n",
        "plt.plot(accuracies, '-x')\n",
        "plt.xlabel('epoch')\n",
        "plt.ylabel('accuracy')\n",
        "plt.title('Accuracy vs. No. of epochs');\n"
      ]
    },
    {
      "cell_type": "markdown",
      "metadata": {
        "id": "P-kPLmrgBUh6"
      },
      "source": [
        "# Testing with individual images\n",
        "\n",
        "While we have been tracking the overall accuracyof a model so far,it's  also a good idea to look at model's result on some sample images. Let's test out our model with some images from the predefined test dataset of 10000images. We begin by recreating the test dataset with the ToTensor transform"
      ]
    },
    {
      "cell_type": "code",
      "execution_count": null,
      "metadata": {
        "id": "OtxIiEGh_cEt"
      },
      "outputs": [],
      "source": [
        "\n",
        "#define test Dataset\n",
        "test_dataset=MNIST(root='data/',train=False,transform=transforms.ToTensor())"
      ]
    },
    {
      "cell_type": "markdown",
      "metadata": {
        "id": "PyNZkBDFD2JT"
      },
      "source": [
        "sample image from the dataset\n",
        "\n"
      ]
    },
    {
      "cell_type": "code",
      "execution_count": null,
      "metadata": {
        "id": "cFd4BRY1Dflr"
      },
      "outputs": [],
      "source": [
        "img,label=test_dataset[0]\n",
        "plt.imshow(img[0],cmap='gray')\n",
        "print('Shape:',img.shape)\n",
        "print('Label:',label)"
      ]
    },
    {
      "cell_type": "markdown",
      "metadata": {
        "id": "h699wjY_rMnP"
      },
      "source": [
        "Let's define a helper function predict_image, which return the predict_image which return the predicted label for a single image tensor."
      ]
    },
    {
      "cell_type": "code",
      "execution_count": null,
      "metadata": {
        "id": "zRibwjdAEXnq"
      },
      "outputs": [],
      "source": [
        " img.unsqueeze(0).shape\n"
      ]
    },
    {
      "cell_type": "code",
      "execution_count": null,
      "metadata": {
        "id": "HFQGK2TRtJBe"
      },
      "outputs": [],
      "source": [
        "def predict_image(img,model):\n",
        "  xb=img.unsqueeze(0)\n",
        "  yb=model(xb)\n",
        "  _,preds=torch.max(yb,dim=1)\n",
        "  return preds[0].item()"
      ]
    },
    {
      "cell_type": "markdown",
      "metadata": {
        "id": "N6rrbhoJuI7C"
      },
      "source": [
        "img.unsqueeze simply adds another dimension at the beginging of the 1x28x28 tensor ,making it a 1x1x28x28 tensor, which the model views as a batch containing a single image.\n",
        "\n",
        "\n",
        "let's try it out with a  few images"
      ]
    },
    {
      "cell_type": "code",
      "execution_count": null,
      "metadata": {
        "id": "x05btcpluDdI"
      },
      "outputs": [],
      "source": [
        "img, label=test_dataset[0]\n",
        "plt.imshow(img[0],cmap='gray')\n",
        "print(\"Label :\",label,\"Predicted: \",predict_image(img,model))"
      ]
    },
    {
      "cell_type": "code",
      "execution_count": null,
      "metadata": {
        "id": "XN9W21sYvAiT"
      },
      "outputs": [],
      "source": [
        "img, label=test_dataset[10]\n",
        "plt.imshow(img[0],cmap='gray')\n",
        "print(\"Label :\",label,\"Predicted: \",predict_image(img,model))"
      ]
    },
    {
      "cell_type": "code",
      "execution_count": null,
      "metadata": {
        "id": "HCmjtsTCwAmI"
      },
      "outputs": [],
      "source": [
        "img, label=test_dataset[265]\n",
        "plt.imshow(img[0],cmap='gray')\n",
        "print(\"Label :\",label,\"Predicted: \",predict_image(img,model))"
      ]
    },
    {
      "cell_type": "code",
      "execution_count": null,
      "metadata": {
        "id": "zVKZJY6GwEJ7"
      },
      "outputs": [],
      "source": [
        "img, label=test_dataset[193]\n",
        "plt.imshow(img[0],cmap='gray')\n",
        "print(\"Label :\",label,\"Predicted: \",predict_image(img,model))"
      ]
    },
    {
      "cell_type": "code",
      "execution_count": null,
      "metadata": {
        "id": "3LEDC9l5wJSc"
      },
      "outputs": [],
      "source": [
        "img, label=test_dataset[1839]\n",
        "plt.imshow(img[0],cmap='gray')\n",
        "print(\"Label :\",label,\"Predicted: \",predict_image(img,model))"
      ]
    },
    {
      "cell_type": "markdown",
      "metadata": {
        "id": "73YDi9rNxZCh"
      },
      "source": [
        "Identifying where our model performs poorly can help us improve the model , by collecting more training data, increasing/decreasing the complexity of the model , and changing the hyperparameters.\n",
        "\n",
        "As a final step,let's also look at the overall loss and accuracy of the model on the test set"
      ]
    },
    {
      "cell_type": "code",
      "execution_count": null,
      "metadata": {
        "id": "_uqGBuQlwOU9"
      },
      "outputs": [],
      "source": [
        "test_loader=DataLoader(test_dataset,batch_size=256)\n",
        "result=evaluate(model,test_loader)\n",
        "result"
      ]
    },
    {
      "cell_type": "markdown",
      "metadata": {
        "id": "MejJG4hsyu_b"
      },
      "source": [
        "We exect this to be similar to the accuracy/loss on the validation set. If not ,we might need a better validation set that has similar data and distribution as the test set(which often comes from real world data)."
      ]
    },
    {
      "cell_type": "markdown",
      "metadata": {
        "id": "jm71sYKQ1tmT"
      },
      "source": [
        "# Saving and loading the model"
      ]
    },
    {
      "cell_type": "markdown",
      "metadata": {
        "id": "cWi8isM51xcz"
      },
      "source": [
        "Since we've trained our model for a long time and achieved a reasonable accuracy, it would be a good idea to save the weights and bias matrics to disk, so that we can reuse the model later and avoid retraining from scratch. Here's how you can save the model."
      ]
    },
    {
      "cell_type": "code",
      "execution_count": null,
      "metadata": {
        "id": "sGVl2IBxydNG"
      },
      "outputs": [],
      "source": [
        "torch.save(model.state_dict(),'mnist-logistic.pth')"
      ]
    },
    {
      "cell_type": "code",
      "execution_count": null,
      "metadata": {
        "id": "qtVzHLGR2e_0"
      },
      "outputs": [],
      "source": [
        "model.state_dict()"
      ]
    },
    {
      "cell_type": "markdown",
      "metadata": {
        "id": "Y2xy0v7E3ohk"
      },
      "source": [
        "To load the model weights we can instante a new object of the class MnistModel and use the .load_state_dict method"
      ]
    },
    {
      "cell_type": "code",
      "execution_count": null,
      "metadata": {
        "id": "RAc0Xcqh2kxM"
      },
      "outputs": [],
      "source": [
        "model2=MnistModel()\n"
      ]
    },
    {
      "cell_type": "code",
      "execution_count": null,
      "metadata": {
        "id": "LSwh7meHHWc2"
      },
      "outputs": [],
      "source": [
        "model2.state_dict()"
      ]
    },
    {
      "cell_type": "markdown",
      "metadata": {
        "id": "oMESVOGOHpQG"
      },
      "source": [
        "Just as a sanity check, let's verify that this model has the same loss and accuracy on the test set as before"
      ]
    },
    {
      "cell_type": "code",
      "execution_count": null,
      "metadata": {
        "id": "xX9LKaAsHj7q"
      },
      "outputs": [],
      "source": [
        "test_loader=DataLoader(test_dataset,batch_size=256)\n",
        "result=evaluate(model2,test_loader)\n",
        "result"
      ]
    },
    {
      "cell_type": "code",
      "execution_count": null,
      "metadata": {
        "id": "Go2Fq0VaIClb"
      },
      "outputs": [],
      "source": []
    }
  ],
  "metadata": {
    "colab": {
      "provenance": [],
      "include_colab_link": true
    },
    "kernelspec": {
      "display_name": "Python 3",
      "name": "python3"
    },
    "language_info": {
      "name": "python"
    }
  },
  "nbformat": 4,
  "nbformat_minor": 0
}